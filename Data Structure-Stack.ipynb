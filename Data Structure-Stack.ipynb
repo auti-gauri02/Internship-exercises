{
 "cells": [
  {
   "cell_type": "markdown",
   "id": "353fd84a",
   "metadata": {},
   "source": [
    "## Stack:\n",
    "A stack is a linear data structure that follows the Last-In-First-Out(LIFO) principle.The data is stored in a similar order as plates are arranged one above another in the kitchen.In Stack,the new element is inserted at the one end and an element can be removed only that end.\n"
   ]
  },
  {
   "cell_type": "markdown",
   "id": "c2245713",
   "metadata": {},
   "source": [
    "### Basic Operations in Stack\n",
    "Push():Adding an element to the top of the stack.\n",
    "\n",
    "Pop():Removing and returning the top element from the stack.\n",
    "\n",
    "isEmpty():It determines whether the stack is empty.\n",
    "\n",
    "isFull():It returns true if the stack is full,which means that its size has reached the limit of what can be stored on it.If the stack is not full,it returns false."
   ]
  },
  {
   "cell_type": "code",
   "execution_count": 1,
   "id": "98c2b03d",
   "metadata": {},
   "outputs": [
    {
     "name": "stdout",
     "output_type": "stream",
     "text": [
      "[2, 6, 5, 3]\n",
      "3\n",
      "5\n",
      "6\n",
      "2\n"
     ]
    }
   ],
   "source": [
    "num=[]\n",
    "num.append(2)\n",
    "num.append(6)\n",
    "num.append(5)\n",
    "num.append(3)\n",
    "print(num)\n",
    "print(num.pop())\n",
    "print(num.pop())\n",
    "print(num.pop())\n",
    "print(num.pop())\n"
   ]
  },
  {
   "cell_type": "code",
   "execution_count": 2,
   "id": "31c184e6",
   "metadata": {},
   "outputs": [
    {
     "name": "stdout",
     "output_type": "stream",
     "text": [
      "stack is empty\n",
      "[]\n"
     ]
    }
   ],
   "source": [
    " def push(num,n):\n",
    "        num.append(n)\n",
    "        return num\n",
    "def pop(num):\n",
    "    if isEmpty(num):\n",
    "        print('stack is empty')\n",
    "        return False\n",
    "    else:\n",
    "        num.pop()\n",
    "        return num\n",
    "def isEmpty(num):\n",
    "    if not num:\n",
    "        return True\n",
    "    else:\n",
    "        return False\n",
    "num=[]\n",
    "push(num,2)\n",
    "push(num,3)\n",
    "push(num,4)\n",
    "pop(num)\n",
    "pop(num)\n",
    "pop(num)\n",
    "pop(num)\n",
    "print(num)"
   ]
  }
 ],
 "metadata": {
  "kernelspec": {
   "display_name": "Python 3 (ipykernel)",
   "language": "python",
   "name": "python3"
  },
  "language_info": {
   "codemirror_mode": {
    "name": "ipython",
    "version": 3
   },
   "file_extension": ".py",
   "mimetype": "text/x-python",
   "name": "python",
   "nbconvert_exporter": "python",
   "pygments_lexer": "ipython3",
   "version": "3.9.13"
  }
 },
 "nbformat": 4,
 "nbformat_minor": 5
}
