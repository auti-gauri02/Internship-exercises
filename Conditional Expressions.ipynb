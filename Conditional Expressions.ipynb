{
 "cells": [
  {
   "cell_type": "markdown",
   "id": "080fc875",
   "metadata": {},
   "source": [
    "\n",
    "## If,else and elif in Python\n",
    "If,else and elif statements are a multiway decision taken by our program due to certain conditions in our code.\n",
    "\n",
    "Syntax:\n",
    "\n",
    "    if (condition1):\n",
    "    \n",
    "       print(\"yes\")\n",
    "       \n",
    "    elif (condition2):\n",
    "    \n",
    "       print(\"no\")\n",
    "       \n",
    "    else:\n",
    "    \n",
    "       print(\"maybe\")"
   ]
  },
  {
   "cell_type": "code",
   "execution_count": 1,
   "id": "4eb10d98",
   "metadata": {},
   "outputs": [
    {
     "name": "stdout",
     "output_type": "stream",
     "text": [
      "The value of a is greater than 3\n"
     ]
    }
   ],
   "source": [
    "a=45\n",
    "if(a>3):\n",
    "    print(\"The value of a is greater than 3\")\n",
    "elif(a>13):\n",
    "    print(\"The value of a is greater than 13\")\n",
    "else:\n",
    "    print(\"The value of a is not greater than 3 or 7\")"
   ]
  },
  {
   "cell_type": "markdown",
   "id": "fbc9e64f",
   "metadata": {},
   "source": [
    "## Write a program to print yes when the age entered by the user is greater than or equal to 18."
   ]
  },
  {
   "cell_type": "code",
   "execution_count": 1,
   "id": "b7104da0",
   "metadata": {},
   "outputs": [
    {
     "name": "stdout",
     "output_type": "stream",
     "text": [
      "Enter your age:19\n",
      "yes\n"
     ]
    }
   ],
   "source": [
    "age=int(input(\"Enter your age:\"))\n",
    "if age>18:\n",
    "    print(\"yes\")\n",
    "else:\n",
    "    print(\"no\")"
   ]
  },
  {
   "cell_type": "markdown",
   "id": "c436e5a6",
   "metadata": {},
   "source": [
    "## Relational Operators:\n",
    "\n",
    "Relational operators are used to evaluate conditions inside the if statements.Some examples of relational operators are:\n",
    "\n",
    "1)== \n",
    "\n",
    "2)>=\n",
    "\n",
    "3)<=\n",
    "\n",
    "\n",
    "## Logical Operators:\n",
    "\n",
    "In python,logical operators operates on conditional statements.\n",
    "\n",
    "1)and: true if both operands are true else false.\n",
    "\n",
    "2)or:true if at least one operand is true else false.\n",
    "\n",
    "3)not:inverts true to false and false to true.\n",
    "\n"
   ]
  },
  {
   "cell_type": "code",
   "execution_count": 2,
   "id": "74605cab",
   "metadata": {},
   "outputs": [
    {
     "name": "stdout",
     "output_type": "stream",
     "text": [
      "Enter your age:50\n",
      "you can work with us\n"
     ]
    }
   ],
   "source": [
    "\n",
    "age=int(input(\"Enter your age:\"))\n",
    "if (age>34 and age<56):\n",
    "    print(\"you can work with us\")\n",
    "else:\n",
    "    print(\"no\")\n"
   ]
  },
  {
   "cell_type": "markdown",
   "id": "2bbf3e30",
   "metadata": {},
   "source": [
    "## Important Note:\n",
    "1)There can be any no.of elif statements.\n",
    "\n",
    "2)Last else is executed only if all the conditions inside elifs fail.\n"
   ]
  },
  {
   "cell_type": "code",
   "execution_count": 3,
   "id": "170d2c8b",
   "metadata": {},
   "outputs": [
    {
     "name": "stdout",
     "output_type": "stream",
     "text": [
      "yes\n"
     ]
    }
   ],
   "source": [
    "a=None\n",
    "if(a is None):\n",
    "    print(\"yes\")\n",
    "else:\n",
    "    print(\"no\")"
   ]
  },
  {
   "cell_type": "code",
   "execution_count": 4,
   "id": "93a81b86",
   "metadata": {},
   "outputs": [
    {
     "name": "stdout",
     "output_type": "stream",
     "text": [
      "False\n"
     ]
    }
   ],
   "source": [
    "a=[45,56,6]\n",
    "print(67 in a) #check value in list"
   ]
  },
  {
   "cell_type": "markdown",
   "id": "1b8a469e",
   "metadata": {},
   "source": [
    "## Greatest of three numbers"
   ]
  },
  {
   "cell_type": "code",
   "execution_count": 5,
   "id": "f64d71eb",
   "metadata": {},
   "outputs": [
    {
     "name": "stdout",
     "output_type": "stream",
     "text": [
      "enter num1:7\n",
      "enter num2:8\n",
      "enter num3:90\n",
      "num3 is greater\n"
     ]
    }
   ],
   "source": [
    "num1=int(input(\"enter num1:\"))\n",
    "num2=int(input(\"enter num2:\"))\n",
    "num3=int(input(\"enter num3:\"))\n",
    "if(num1>num2 and num1>num3):\n",
    "    print(\"num1 is greater\")\n",
    "elif(num2>num3 and num2>num1):\n",
    "    print(\"num2 is greater\")\n",
    "else:\n",
    "    print(\"num3 is greater\")\n"
   ]
  },
  {
   "cell_type": "markdown",
   "id": "8dc35b5f",
   "metadata": {},
   "source": [
    "## Q1.Write a program to find greatest of four numbers entered  by user"
   ]
  },
  {
   "cell_type": "code",
   "execution_count": 6,
   "id": "9232ff8e",
   "metadata": {},
   "outputs": [
    {
     "name": "stdout",
     "output_type": "stream",
     "text": [
      "enter num1:70\n",
      "enter num2:90\n",
      "enter num3:50\n",
      "enter num4:0\n",
      "num2 is greater\n"
     ]
    }
   ],
   "source": [
    "num1=int(input(\"enter num1:\"))\n",
    "num2=int(input(\"enter num2:\"))\n",
    "num3=int(input(\"enter num3:\"))\n",
    "num4=int(input(\"enter num4:\"))\n",
    "if(num1>num2 and num1>num4 and num1>num3):\n",
    "    print(\"num1 is greater\")\n",
    "elif(num2>num1 and num2>num4 and num2>num3):\n",
    "    print(\"num2 is greater\")\n",
    "elif(num3>num1 and num3>num2 and num3>num4):\n",
    "    print(\"num3 is greater\")\n",
    "else:\n",
    "    print(\"num4 is greater\")"
   ]
  },
  {
   "cell_type": "markdown",
   "id": "88c68147",
   "metadata": {},
   "source": [
    "## Write a program to find out whether a student is pass or fail,if it requires total 40% and at least 33%,in each subject to pass.Assume 3 subjects and take marks as an input from the user. "
   ]
  },
  {
   "cell_type": "code",
   "execution_count": 2,
   "id": "589ab33b",
   "metadata": {},
   "outputs": [
    {
     "name": "stdout",
     "output_type": "stream",
     "text": [
      "enter a first sub marks:56\n",
      "enter a second sub marks:32\n",
      "enter a third sub marks:80\n",
      "you are fail\n"
     ]
    }
   ],
   "source": [
    "sub1=int(input(\"enter a first sub marks:\"))\n",
    "sub2=int(input(\"enter a second sub marks:\"))\n",
    "sub3=int(input(\"enter a third sub marks:\"))\n",
    "if(sub1<33 or sub2<33 or sub3<33):\n",
    "    print(\"you are fail\")\n",
    "elif((sub1+sub2+sub3)/3)<40:\n",
    "    print(\"you are fail\")\n",
    "else:\n",
    "    print(\"you are passed\")"
   ]
  },
  {
   "cell_type": "markdown",
   "id": "afbdbdb9",
   "metadata": {},
   "source": [
    "## Q3)A spam comment is defined as a containing following keywords:\n",
    "\n",
    "\"make a lot of money\",\"buy now\",\"subscribe this\",\"click this\".Write a program to detect these spams."
   ]
  },
  {
   "cell_type": "code",
   "execution_count": 3,
   "id": "e7987ee6",
   "metadata": {},
   "outputs": [
    {
     "name": "stdout",
     "output_type": "stream",
     "text": [
      "enter the text:buy now to make money\n",
      "This text is spam\n"
     ]
    }
   ],
   "source": [
    "text=input(\"enter the text:\")\n",
    "spam=False\n",
    "if(\"make a lot of money\" in text):\n",
    "    spam=True\n",
    "elif(\"buy now\" in text):\n",
    "    spam=True\n",
    "elif(\"subscribe this\" in text):\n",
    "    spam=True\n",
    "elif(\"click this\" in text):\n",
    "    spam=True\n",
    "else:\n",
    "    spam=False\n",
    "if(spam):\n",
    "    print(\"This text is spam\")\n",
    "else:\n",
    "    print(\"This text is not spam\")"
   ]
  },
  {
   "cell_type": "markdown",
   "id": "a58b106c",
   "metadata": {},
   "source": [
    "## Q4)Write a program to find whether a given username contains less than 10 characters or not."
   ]
  },
  {
   "cell_type": "code",
   "execution_count": 6,
   "id": "76515ab7",
   "metadata": {},
   "outputs": [
    {
     "name": "stdout",
     "output_type": "stream",
     "text": [
      "Enter a username:gauriautiii\n",
      "usename not contain less than 10 characters\n"
     ]
    }
   ],
   "source": [
    "username=input(\"Enter a username:\")\n",
    "if(len(username)<10):\n",
    "    print(\"username contain less than 10 characters\")\n",
    "else:\n",
    "    print(\"usename not contain less than 10 characters\")"
   ]
  },
  {
   "cell_type": "markdown",
   "id": "698ee7ab",
   "metadata": {},
   "source": [
    "## Q5)Write a program which finds out whether a given name is present in list or not"
   ]
  },
  {
   "cell_type": "code",
   "execution_count": 7,
   "id": "8155731a",
   "metadata": {},
   "outputs": [
    {
     "name": "stdout",
     "output_type": "stream",
     "text": [
      "enter the name to check\n",
      "pradnya\n",
      "your name is present in list\n"
     ]
    }
   ],
   "source": [
    "names=[\"harry\",\"shubham\",\"gauri\",\"pradnya\"]\n",
    "name=input(\"enter the name to check\\n\")\n",
    "if name in names:\n",
    "    print(\"your name is present in list\")\n",
    "else:\n",
    "    print(\"no\")\n"
   ]
  },
  {
   "cell_type": "markdown",
   "id": "50e26fc3",
   "metadata": {},
   "source": [
    "## Write a program to calculate the grade of a student from his marks from the following scheme:\n",
    "\n",
    "90-100:EX\n",
    "\n",
    "80-90:A\n",
    "\n",
    "70-80:B\n",
    "\n",
    "60-70:C\n",
    "\n",
    "50-60:D\n",
    "\n",
    "<50:F"
   ]
  },
  {
   "cell_type": "code",
   "execution_count": 5,
   "id": "33cd5e95",
   "metadata": {},
   "outputs": [
    {
     "name": "stdout",
     "output_type": "stream",
     "text": [
      "enter your marks\n",
      "50\n",
      "your grade is D\n"
     ]
    }
   ],
   "source": [
    "marks=int(input('enter your marks\\n'))\n",
    "if marks>=90:\n",
    "    grade='EX'\n",
    "elif marks>=80:\n",
    "    grade='A'\n",
    "elif marks>=70:\n",
    "    grade='B'\n",
    "elif marks>=60:\n",
    "    grade='C'\n",
    "elif marks>=50:\n",
    "    grade='D'\n",
    "else:\n",
    "    grade='F'\n",
    "print(\"your grade is\"+\" \"+grade)"
   ]
  }
 ],
 "metadata": {
  "kernelspec": {
   "display_name": "Python 3 (ipykernel)",
   "language": "python",
   "name": "python3"
  },
  "language_info": {
   "codemirror_mode": {
    "name": "ipython",
    "version": 3
   },
   "file_extension": ".py",
   "mimetype": "text/x-python",
   "name": "python",
   "nbconvert_exporter": "python",
   "pygments_lexer": "ipython3",
   "version": "3.9.13"
  }
 },
 "nbformat": 4,
 "nbformat_minor": 5
}
