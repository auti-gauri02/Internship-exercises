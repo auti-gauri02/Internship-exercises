{
 "cells": [
  {
   "cell_type": "markdown",
   "id": "f03079ad",
   "metadata": {},
   "source": [
    "## Set:\n",
    "Sets are used to store multiple items in a single variable.A set is a collection which is unordered,unchangeable,unindexed and do not allow duplicate values."
   ]
  },
  {
   "cell_type": "code",
   "execution_count": 1,
   "id": "4fb1f49b",
   "metadata": {},
   "outputs": [
    {
     "name": "stdout",
     "output_type": "stream",
     "text": [
      "{1, 3, 4, 6, 'apple'}\n"
     ]
    }
   ],
   "source": [
    "#Create a set\n",
    "set={1,3,4,'apple',6}\n",
    "print(set)"
   ]
  },
  {
   "cell_type": "markdown",
   "id": "c0b1841b",
   "metadata": {},
   "source": [
    "### Length of a set\n"
   ]
  },
  {
   "cell_type": "code",
   "execution_count": 2,
   "id": "facca1ad",
   "metadata": {},
   "outputs": [
    {
     "name": "stdout",
     "output_type": "stream",
     "text": [
      "5\n"
     ]
    }
   ],
   "source": [
    "set={1,3,4,'apple',6}\n",
    "print(len(set))"
   ]
  },
  {
   "cell_type": "code",
   "execution_count": 3,
   "id": "0ae73aca",
   "metadata": {},
   "outputs": [
    {
     "name": "stdout",
     "output_type": "stream",
     "text": [
      "<class 'set'>\n"
     ]
    }
   ],
   "source": [
    "set={1,3,4,'apple',6}\n",
    "print(type(set))"
   ]
  },
  {
   "cell_type": "markdown",
   "id": "9f25a26d",
   "metadata": {},
   "source": [
    "### Access set items"
   ]
  },
  {
   "cell_type": "code",
   "execution_count": 4,
   "id": "0f80ab01",
   "metadata": {},
   "outputs": [
    {
     "name": "stdout",
     "output_type": "stream",
     "text": [
      "1\n",
      "3\n",
      "4\n",
      "6\n",
      "apple\n"
     ]
    }
   ],
   "source": [
    "set={1,3,4,'apple',6}\n",
    "for i in set:\n",
    "    print(i)"
   ]
  },
  {
   "cell_type": "code",
   "execution_count": 5,
   "id": "4142969d",
   "metadata": {},
   "outputs": [
    {
     "name": "stdout",
     "output_type": "stream",
     "text": [
      "True\n"
     ]
    }
   ],
   "source": [
    "#check if 3 present in the set\n",
    "set={1,3,4,'apple',6}\n",
    "print(3 in set)"
   ]
  },
  {
   "cell_type": "code",
   "execution_count": 6,
   "id": "65cc62ba",
   "metadata": {},
   "outputs": [
    {
     "name": "stdout",
     "output_type": "stream",
     "text": [
      "True\n"
     ]
    }
   ],
   "source": [
    "set={1,3,4,'apple',6}\n",
    "if 3 in set:\n",
    "    print(True)"
   ]
  },
  {
   "cell_type": "markdown",
   "id": "d12ac232",
   "metadata": {},
   "source": [
    "### Set Methods"
   ]
  },
  {
   "cell_type": "markdown",
   "id": "ef162147",
   "metadata": {},
   "source": [
    "#### add()\n",
    "Adds an element to the set."
   ]
  },
  {
   "cell_type": "code",
   "execution_count": 7,
   "id": "5d268ff6",
   "metadata": {},
   "outputs": [
    {
     "name": "stdout",
     "output_type": "stream",
     "text": [
      "{1, 3, 4, 6, 'cherry', 'apple'}\n"
     ]
    }
   ],
   "source": [
    "set={1,3,4,'apple',6}\n",
    "set.add('cherry')\n",
    "print(set)"
   ]
  },
  {
   "cell_type": "markdown",
   "id": "d5b8b1f3",
   "metadata": {},
   "source": [
    "#### difference()\n",
    "Returns a set containing the difference between two or more sets."
   ]
  },
  {
   "cell_type": "code",
   "execution_count": 8,
   "id": "d74b9188",
   "metadata": {},
   "outputs": [
    {
     "name": "stdout",
     "output_type": "stream",
     "text": [
      "{'apple', 4, 6}\n"
     ]
    }
   ],
   "source": [
    "set1={1,3,4,'apple',6}\n",
    "set2={1,2,3,5}\n",
    "z=set1.difference(set2)\n",
    "print(z)"
   ]
  },
  {
   "cell_type": "markdown",
   "id": "874f8898",
   "metadata": {},
   "source": [
    "#### difference_update\n",
    "Removes the unwanted items from the original set."
   ]
  },
  {
   "cell_type": "code",
   "execution_count": 9,
   "id": "e84f5f97",
   "metadata": {},
   "outputs": [
    {
     "name": "stdout",
     "output_type": "stream",
     "text": [
      "{4, 6, 'apple'}\n"
     ]
    }
   ],
   "source": [
    "set1={1,3,4,'apple',6}\n",
    "set2={1,2,3,5}\n",
    "set1.difference_update(set2)\n",
    "print(set1)"
   ]
  },
  {
   "cell_type": "markdown",
   "id": "834d8b4a",
   "metadata": {},
   "source": [
    "#### discard\n",
    "Removes the specified item"
   ]
  },
  {
   "cell_type": "code",
   "execution_count": 11,
   "id": "7cff16c7",
   "metadata": {},
   "outputs": [
    {
     "name": "stdout",
     "output_type": "stream",
     "text": [
      "{1, 4, 6, 'apple'}\n"
     ]
    }
   ],
   "source": [
    "set={1,3,4,'apple',6}\n",
    "set.discard(3)\n",
    "print(set)"
   ]
  },
  {
   "cell_type": "markdown",
   "id": "198e2f74",
   "metadata": {},
   "source": [
    "#### intersection()\n",
    "Returns a set,that is the intersection of two other sets."
   ]
  },
  {
   "cell_type": "code",
   "execution_count": 12,
   "id": "69ddc410",
   "metadata": {},
   "outputs": [
    {
     "name": "stdout",
     "output_type": "stream",
     "text": [
      "{1, 3}\n"
     ]
    }
   ],
   "source": [
    "set1={1,3,4,'apple',6}\n",
    "set2={1,2,3,5}\n",
    "z=set1.intersection(set2)\n",
    "print(z)"
   ]
  },
  {
   "cell_type": "code",
   "execution_count": 14,
   "id": "300a3842",
   "metadata": {},
   "outputs": [
    {
     "name": "stdout",
     "output_type": "stream",
     "text": [
      "{3}\n"
     ]
    }
   ],
   "source": [
    "set1={1,3,4,'apple',6}\n",
    "set2={1,2,3,5}\n",
    "set3={3,8,9}\n",
    "z=set1.intersection(set2,set3)\n",
    "print(z)"
   ]
  },
  {
   "cell_type": "markdown",
   "id": "bb90d851",
   "metadata": {},
   "source": [
    "#### intersection_update()\n",
    "It removes the unwanted items from the original set."
   ]
  },
  {
   "cell_type": "code",
   "execution_count": 15,
   "id": "0d2a748d",
   "metadata": {},
   "outputs": [
    {
     "name": "stdout",
     "output_type": "stream",
     "text": [
      "{1, 3}\n"
     ]
    }
   ],
   "source": [
    "set1={1,3,4,'apple',6}\n",
    "set2={1,2,3,5}\n",
    "set1.intersection_update(set2)\n",
    "print(set1)"
   ]
  },
  {
   "cell_type": "code",
   "execution_count": 16,
   "id": "0352cc40",
   "metadata": {},
   "outputs": [
    {
     "name": "stdout",
     "output_type": "stream",
     "text": [
      "{3}\n"
     ]
    }
   ],
   "source": [
    "set1={1,3,4,'apple',6}\n",
    "set2={1,2,3,5}\n",
    "set3={3,8,9}\n",
    "set1.intersection_update(set2,set3)\n",
    "print(set1)"
   ]
  },
  {
   "cell_type": "markdown",
   "id": "48a3a6c1",
   "metadata": {},
   "source": [
    "#### isdisjoint()\n",
    "Returns whether two sets have a intersection or not."
   ]
  },
  {
   "cell_type": "code",
   "execution_count": 17,
   "id": "c3efcc71",
   "metadata": {},
   "outputs": [
    {
     "name": "stdout",
     "output_type": "stream",
     "text": [
      "False\n"
     ]
    }
   ],
   "source": [
    "set1={1,3,4,'apple',6}\n",
    "set2={1,2,3,5}\n",
    "z=set1.isdisjoint(set2)\n",
    "print(z)"
   ]
  },
  {
   "cell_type": "code",
   "execution_count": 18,
   "id": "26c3b31c",
   "metadata": {},
   "outputs": [
    {
     "name": "stdout",
     "output_type": "stream",
     "text": [
      "True\n"
     ]
    }
   ],
   "source": [
    "set1={1,3,5}\n",
    "set2={2,4,8}\n",
    "z=set1.isdisjoint(set2)\n",
    "print(z)"
   ]
  },
  {
   "cell_type": "markdown",
   "id": "0295f123",
   "metadata": {},
   "source": [
    "#### issubset()\n",
    "Returns whether another set contains this set or not."
   ]
  },
  {
   "cell_type": "code",
   "execution_count": 19,
   "id": "2a07b127",
   "metadata": {},
   "outputs": [
    {
     "name": "stdout",
     "output_type": "stream",
     "text": [
      "True\n"
     ]
    }
   ],
   "source": [
    "set1={1,2,3}\n",
    "set2={1,4,5,3,2}\n",
    "z=set1.issubset(set2)\n",
    "print(z)"
   ]
  },
  {
   "cell_type": "markdown",
   "id": "9cd21129",
   "metadata": {},
   "source": [
    "#### issuperset()\n",
    "Returns whether this set contains another set or not."
   ]
  },
  {
   "cell_type": "code",
   "execution_count": 21,
   "id": "18c4e884",
   "metadata": {},
   "outputs": [
    {
     "name": "stdout",
     "output_type": "stream",
     "text": [
      "True\n"
     ]
    }
   ],
   "source": [
    "set1={1,2,3}\n",
    "set2={1,4,5,3,2}\n",
    "z=set2.issuperset(set1)\n",
    "print(z)"
   ]
  },
  {
   "cell_type": "markdown",
   "id": "ff4ecf21",
   "metadata": {},
   "source": [
    "#### pop()\n",
    "Removes random element from the set"
   ]
  },
  {
   "cell_type": "code",
   "execution_count": 26,
   "id": "930e8036",
   "metadata": {},
   "outputs": [
    {
     "name": "stdout",
     "output_type": "stream",
     "text": [
      "{3, 4, 6, 'apple'}\n"
     ]
    }
   ],
   "source": [
    "set={1,3,4,'apple',6}\n",
    "set.pop()\n",
    "print(set)"
   ]
  },
  {
   "cell_type": "markdown",
   "id": "bdd90d50",
   "metadata": {},
   "source": [
    "#### remove()\n",
    "Removes the specified element.This method is different from the discard() method,because the remove() method will raise an error if the specified item does not exist,and the discard() method will not."
   ]
  },
  {
   "cell_type": "code",
   "execution_count": 29,
   "id": "b947bd48",
   "metadata": {},
   "outputs": [
    {
     "name": "stdout",
     "output_type": "stream",
     "text": [
      "{1, 4, 6, 'apple'}\n"
     ]
    }
   ],
   "source": [
    "set={1,3,4,'apple',6}\n",
    "set.remove(3)\n",
    "print(set)"
   ]
  },
  {
   "cell_type": "markdown",
   "id": "9bd9463b",
   "metadata": {},
   "source": [
    "#### symmetric_difference()\n",
    "Returns a set with the symmetric differences of two sets."
   ]
  },
  {
   "cell_type": "code",
   "execution_count": 31,
   "id": "c4b50aa2",
   "metadata": {},
   "outputs": [
    {
     "name": "stdout",
     "output_type": "stream",
     "text": [
      "{4, 5, 7}\n"
     ]
    }
   ],
   "source": [
    "set1={1,2,3,7}\n",
    "set2={1,4,5,3,2}\n",
    "z=set1.symmetric_difference(set2)\n",
    "print(z)"
   ]
  },
  {
   "cell_type": "markdown",
   "id": "fc79405d",
   "metadata": {},
   "source": [
    "#### symmetric_difference_update()\n",
    "Removes the items that are present in both sets and insert the items that is not present in both sets."
   ]
  },
  {
   "cell_type": "code",
   "execution_count": 34,
   "id": "bb1a97a2",
   "metadata": {},
   "outputs": [
    {
     "name": "stdout",
     "output_type": "stream",
     "text": [
      "{4, 5, 7}\n"
     ]
    }
   ],
   "source": [
    "set1={1,2,3,7}\n",
    "set2={1,4,5,3,2}\n",
    "set1.symmetric_difference_update(set2)\n",
    "print(set1)"
   ]
  },
  {
   "cell_type": "markdown",
   "id": "8d3f2356",
   "metadata": {},
   "source": [
    "#### union()\n",
    "Return a set containing the union of sets."
   ]
  },
  {
   "cell_type": "code",
   "execution_count": 36,
   "id": "70841ae5",
   "metadata": {},
   "outputs": [
    {
     "name": "stdout",
     "output_type": "stream",
     "text": [
      "{1, 2, 3, 4, 5, 7}\n"
     ]
    }
   ],
   "source": [
    "set1={1,2,3,7}\n",
    "set2={1,4,5,3,2}\n",
    "z=set1.union(set2)\n",
    "print(z)"
   ]
  },
  {
   "cell_type": "markdown",
   "id": "f7a5ed47",
   "metadata": {},
   "source": [
    "#### update()\n",
    "Update the set with another set,or any other iterable."
   ]
  },
  {
   "cell_type": "code",
   "execution_count": 37,
   "id": "d47afe42",
   "metadata": {},
   "outputs": [
    {
     "name": "stdout",
     "output_type": "stream",
     "text": [
      "{'ParamVista', 'banana', 'google', 'cherry', 'apple'}\n"
     ]
    }
   ],
   "source": [
    "x={'apple','banana','cherry'}\n",
    "y={'google','ParamVista','cherry'}\n",
    "x.update(y)\n",
    "print(x)"
   ]
  },
  {
   "cell_type": "markdown",
   "id": "4ecf749a",
   "metadata": {},
   "source": [
    "#### copy()\n",
    "Returns a copy of the set."
   ]
  },
  {
   "cell_type": "code",
   "execution_count": 38,
   "id": "3640ac5a",
   "metadata": {},
   "outputs": [
    {
     "name": "stdout",
     "output_type": "stream",
     "text": [
      "{'ParamVista', 'google', 'cherry'}\n"
     ]
    }
   ],
   "source": [
    "y={'google','ParamVista','cherry'}\n",
    "z=y.copy()\n",
    "print(z)"
   ]
  },
  {
   "cell_type": "markdown",
   "id": "b1589908",
   "metadata": {},
   "source": [
    "#### clear()\n",
    "Removes all the elements from the set. "
   ]
  },
  {
   "cell_type": "code",
   "execution_count": 39,
   "id": "a91dfcad",
   "metadata": {},
   "outputs": [
    {
     "name": "stdout",
     "output_type": "stream",
     "text": [
      "set()\n"
     ]
    }
   ],
   "source": [
    "y={'google','ParamVista','cherry'}\n",
    "y.clear()\n",
    "print(y)"
   ]
  }
 ],
 "metadata": {
  "kernelspec": {
   "display_name": "Python 3 (ipykernel)",
   "language": "python",
   "name": "python3"
  },
  "language_info": {
   "codemirror_mode": {
    "name": "ipython",
    "version": 3
   },
   "file_extension": ".py",
   "mimetype": "text/x-python",
   "name": "python",
   "nbconvert_exporter": "python",
   "pygments_lexer": "ipython3",
   "version": "3.9.13"
  }
 },
 "nbformat": 4,
 "nbformat_minor": 5
}
