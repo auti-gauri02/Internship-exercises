{
 "cells": [
  {
   "cell_type": "markdown",
   "id": "ea020ab8",
   "metadata": {},
   "source": [
    "## Variable-\n",
    "It is the name given to a memory location in a program.It is used to store values."
   ]
  },
  {
   "cell_type": "code",
   "execution_count": 1,
   "id": "9dfe988b",
   "metadata": {},
   "outputs": [],
   "source": [
    "a='gauri'\n",
    "b=345\n"
   ]
  },
  {
   "cell_type": "markdown",
   "id": "26659d62",
   "metadata": {},
   "source": [
    "## Data Types:\n",
    "Integers\n",
    "\n",
    "Float\n",
    "\n",
    "Strings\n",
    "\n",
    "Booleans\n",
    "\n",
    "None"
   ]
  },
  {
   "cell_type": "code",
   "execution_count": 2,
   "id": "2b2319ad",
   "metadata": {},
   "outputs": [
    {
     "data": {
      "text/plain": [
       "2"
      ]
     },
     "execution_count": 2,
     "metadata": {},
     "output_type": "execute_result"
    }
   ],
   "source": [
    "#integer\n",
    "a=2\n",
    "a"
   ]
  },
  {
   "cell_type": "code",
   "execution_count": 3,
   "id": "e6083ff2",
   "metadata": {},
   "outputs": [
    {
     "data": {
      "text/plain": [
       "4.5"
      ]
     },
     "execution_count": 3,
     "metadata": {},
     "output_type": "execute_result"
    }
   ],
   "source": [
    "#float\n",
    "b=4.5\n",
    "b"
   ]
  },
  {
   "cell_type": "code",
   "execution_count": 4,
   "id": "03d65bbe",
   "metadata": {},
   "outputs": [
    {
     "data": {
      "text/plain": [
       "'harry'"
      ]
     },
     "execution_count": 4,
     "metadata": {},
     "output_type": "execute_result"
    }
   ],
   "source": [
    "#String\n",
    "c='harry'\n",
    "c"
   ]
  },
  {
   "cell_type": "code",
   "execution_count": 5,
   "id": "9bae58a7",
   "metadata": {},
   "outputs": [
    {
     "data": {
      "text/plain": [
       "False"
      ]
     },
     "execution_count": 5,
     "metadata": {},
     "output_type": "execute_result"
    }
   ],
   "source": [
    "#Booleans\n",
    "d=False\n",
    "d"
   ]
  },
  {
   "cell_type": "code",
   "execution_count": 6,
   "id": "ffff9316",
   "metadata": {},
   "outputs": [],
   "source": [
    "#None\n",
    "e=None\n",
    "e"
   ]
  },
  {
   "cell_type": "markdown",
   "id": "83df156f",
   "metadata": {},
   "source": [
    "## Printing the type of variables"
   ]
  },
  {
   "cell_type": "code",
   "execution_count": 7,
   "id": "13cb3ae9",
   "metadata": {},
   "outputs": [
    {
     "name": "stdout",
     "output_type": "stream",
     "text": [
      "<class 'int'>\n"
     ]
    }
   ],
   "source": [
    "print(type(a))"
   ]
  },
  {
   "cell_type": "code",
   "execution_count": 8,
   "id": "c795c0b7",
   "metadata": {},
   "outputs": [
    {
     "name": "stdout",
     "output_type": "stream",
     "text": [
      "<class 'float'>\n"
     ]
    }
   ],
   "source": [
    "print(type(b))"
   ]
  },
  {
   "cell_type": "code",
   "execution_count": 9,
   "id": "23ce1495",
   "metadata": {},
   "outputs": [
    {
     "name": "stdout",
     "output_type": "stream",
     "text": [
      "<class 'str'>\n"
     ]
    }
   ],
   "source": [
    "print(type(c))"
   ]
  },
  {
   "cell_type": "code",
   "execution_count": 10,
   "id": "eedbc111",
   "metadata": {},
   "outputs": [
    {
     "name": "stdout",
     "output_type": "stream",
     "text": [
      "<class 'bool'>\n"
     ]
    }
   ],
   "source": [
    "print(type(d))"
   ]
  },
  {
   "cell_type": "code",
   "execution_count": 11,
   "id": "73df18da",
   "metadata": {},
   "outputs": [
    {
     "name": "stdout",
     "output_type": "stream",
     "text": [
      "<class 'NoneType'>\n"
     ]
    }
   ],
   "source": [
    "print(type(e))"
   ]
  },
  {
   "cell_type": "markdown",
   "id": "a65c5440",
   "metadata": {},
   "source": [
    "## Rules for defining variable names\n",
    "1)A variable name can contain alphabets,digits,underscore.\n",
    "\n",
    "2)A variable name only starts with alphabets,and underscore.\n",
    "\n",
    "3)A variable name cannot start with digits.\n",
    "\n",
    "4)No whitespace is allowed inside varible names."
   ]
  },
  {
   "cell_type": "markdown",
   "id": "2b335975",
   "metadata": {},
   "source": [
    "## Operators in Python\n",
    "1)Arithmetic Operator: +,-,*,/ etc.\n",
    "\n",
    "2)Assignment Operator:=,+=,-= etc.\n",
    "\n",
    "3)Comparison Operator:==,>,>=,<,!= etc.\n",
    "\n",
    "4)Logical Operators:and,or,not etc."
   ]
  },
  {
   "cell_type": "markdown",
   "id": "8e455ad7",
   "metadata": {},
   "source": [
    "## Arithmetic Operator"
   ]
  },
  {
   "cell_type": "code",
   "execution_count": 12,
   "id": "8fa40f0a",
   "metadata": {},
   "outputs": [
    {
     "name": "stdout",
     "output_type": "stream",
     "text": [
      "The value of 3+4 is 7\n"
     ]
    }
   ],
   "source": [
    "a=3\n",
    "b=4\n",
    "print('The value of 3+4 is',3+4)\n"
   ]
  },
  {
   "cell_type": "code",
   "execution_count": 13,
   "id": "b79def03",
   "metadata": {},
   "outputs": [
    {
     "name": "stdout",
     "output_type": "stream",
     "text": [
      "The value of 3-4 is -1\n"
     ]
    }
   ],
   "source": [
    "print('The value of 3-4 is',3-4)\n"
   ]
  },
  {
   "cell_type": "code",
   "execution_count": 14,
   "id": "186a89ed",
   "metadata": {},
   "outputs": [
    {
     "name": "stdout",
     "output_type": "stream",
     "text": [
      "The value of 3*4 is 12\n"
     ]
    }
   ],
   "source": [
    "print('The value of 3*4 is',3*4)\n"
   ]
  },
  {
   "cell_type": "code",
   "execution_count": 15,
   "id": "1dc98a6c",
   "metadata": {},
   "outputs": [
    {
     "name": "stdout",
     "output_type": "stream",
     "text": [
      "The value of 3/4 is 0.75\n"
     ]
    }
   ],
   "source": [
    "print('The value of 3/4 is',3/4)\n"
   ]
  },
  {
   "cell_type": "markdown",
   "id": "93f0d2e7",
   "metadata": {},
   "source": [
    "## Assignment Operator"
   ]
  },
  {
   "cell_type": "code",
   "execution_count": 2,
   "id": "517be5a9",
   "metadata": {},
   "outputs": [
    {
     "data": {
      "text/plain": [
       "36"
      ]
     },
     "execution_count": 2,
     "metadata": {},
     "output_type": "execute_result"
    }
   ],
   "source": [
    "a=34\n",
    "a+=2\n",
    "a"
   ]
  },
  {
   "cell_type": "code",
   "execution_count": 4,
   "id": "38258214",
   "metadata": {},
   "outputs": [
    {
     "data": {
      "text/plain": [
       "70"
      ]
     },
     "execution_count": 4,
     "metadata": {},
     "output_type": "execute_result"
    }
   ],
   "source": [
    "a-=2\n",
    "a"
   ]
  },
  {
   "cell_type": "code",
   "execution_count": 5,
   "id": "198a55e7",
   "metadata": {},
   "outputs": [
    {
     "data": {
      "text/plain": [
       "140"
      ]
     },
     "execution_count": 5,
     "metadata": {},
     "output_type": "execute_result"
    }
   ],
   "source": [
    "a*=2\n",
    "a"
   ]
  },
  {
   "cell_type": "markdown",
   "id": "0ecb19f1",
   "metadata": {},
   "source": [
    "## Comparison Operator"
   ]
  },
  {
   "cell_type": "code",
   "execution_count": 19,
   "id": "16ac1faf",
   "metadata": {},
   "outputs": [
    {
     "data": {
      "text/plain": [
       "True"
      ]
     },
     "execution_count": 19,
     "metadata": {},
     "output_type": "execute_result"
    }
   ],
   "source": [
    "b=(14>=7)\n",
    "b"
   ]
  },
  {
   "cell_type": "code",
   "execution_count": 20,
   "id": "20a2bb33",
   "metadata": {},
   "outputs": [
    {
     "data": {
      "text/plain": [
       "False"
      ]
     },
     "execution_count": 20,
     "metadata": {},
     "output_type": "execute_result"
    }
   ],
   "source": [
    "b=(14<=7)\n",
    "b"
   ]
  },
  {
   "cell_type": "code",
   "execution_count": 21,
   "id": "4d18927d",
   "metadata": {},
   "outputs": [
    {
     "data": {
      "text/plain": [
       "False"
      ]
     },
     "execution_count": 21,
     "metadata": {},
     "output_type": "execute_result"
    }
   ],
   "source": [
    "b=(14==7)\n",
    "b"
   ]
  },
  {
   "cell_type": "code",
   "execution_count": 22,
   "id": "7e19868a",
   "metadata": {},
   "outputs": [
    {
     "data": {
      "text/plain": [
       "True"
      ]
     },
     "execution_count": 22,
     "metadata": {},
     "output_type": "execute_result"
    }
   ],
   "source": [
    "b=(14>7)\n",
    "b"
   ]
  },
  {
   "cell_type": "code",
   "execution_count": 23,
   "id": "effaeb3a",
   "metadata": {},
   "outputs": [
    {
     "data": {
      "text/plain": [
       "False"
      ]
     },
     "execution_count": 23,
     "metadata": {},
     "output_type": "execute_result"
    }
   ],
   "source": [
    "b=(14<7)\n",
    "b"
   ]
  },
  {
   "cell_type": "code",
   "execution_count": 24,
   "id": "638e2738",
   "metadata": {},
   "outputs": [
    {
     "data": {
      "text/plain": [
       "True"
      ]
     },
     "execution_count": 24,
     "metadata": {},
     "output_type": "execute_result"
    }
   ],
   "source": [
    "b=(14!=7)\n",
    "b"
   ]
  },
  {
   "cell_type": "markdown",
   "id": "30ad2275",
   "metadata": {},
   "source": [
    "## Logical Operator"
   ]
  },
  {
   "cell_type": "code",
   "execution_count": 6,
   "id": "4dff247d",
   "metadata": {},
   "outputs": [],
   "source": [
    "bool1=True\n",
    "bool2=False"
   ]
  },
  {
   "cell_type": "code",
   "execution_count": 7,
   "id": "d16a5168",
   "metadata": {},
   "outputs": [
    {
     "name": "stdout",
     "output_type": "stream",
     "text": [
      "The value of bool1 and bool2 is False\n"
     ]
    }
   ],
   "source": [
    "print('The value of bool1 and bool2 is',bool1 and bool2)"
   ]
  },
  {
   "cell_type": "code",
   "execution_count": 8,
   "id": "261ab6ee",
   "metadata": {},
   "outputs": [
    {
     "name": "stdout",
     "output_type": "stream",
     "text": [
      "The value of bool1 or bool2 is True\n"
     ]
    }
   ],
   "source": [
    "print('The value of bool1 or bool2 is',bool1 or bool2)"
   ]
  },
  {
   "cell_type": "code",
   "execution_count": 9,
   "id": "3f1086be",
   "metadata": {},
   "outputs": [
    {
     "name": "stdout",
     "output_type": "stream",
     "text": [
      "The value of not bool2 is True\n"
     ]
    }
   ],
   "source": [
    "print('The value of not bool2 is',not bool2)"
   ]
  },
  {
   "cell_type": "markdown",
   "id": "4ad4cbfc",
   "metadata": {},
   "source": [
    "## type() function and Typecasting\n",
    "Typecasting is a way to convert one data type to another.\n",
    "\n",
    "type() function is used to find the data type of a given variable in python."
   ]
  },
  {
   "cell_type": "code",
   "execution_count": 29,
   "id": "638a65ad",
   "metadata": {},
   "outputs": [
    {
     "data": {
      "text/plain": [
       "345.0"
      ]
     },
     "execution_count": 29,
     "metadata": {},
     "output_type": "execute_result"
    }
   ],
   "source": [
    "b='345'\n",
    "b=float(b)\n",
    "b"
   ]
  },
  {
   "cell_type": "code",
   "execution_count": 30,
   "id": "cd6899ce",
   "metadata": {},
   "outputs": [
    {
     "data": {
      "text/plain": [
       "345"
      ]
     },
     "execution_count": 30,
     "metadata": {},
     "output_type": "execute_result"
    }
   ],
   "source": [
    "b=int(b)\n",
    "b"
   ]
  },
  {
   "cell_type": "code",
   "execution_count": 31,
   "id": "a3edbec0",
   "metadata": {},
   "outputs": [
    {
     "name": "stdout",
     "output_type": "stream",
     "text": [
      "350\n"
     ]
    }
   ],
   "source": [
    "print(b+5)"
   ]
  },
  {
   "cell_type": "markdown",
   "id": "d0638915",
   "metadata": {},
   "source": [
    "## input() function:\n",
    "This function allows the users to take input from the keyboard as a string"
   ]
  },
  {
   "cell_type": "code",
   "execution_count": null,
   "id": "252e2fb7",
   "metadata": {},
   "outputs": [],
   "source": [
    "a=input('Enter your name:')\n",
    "print(a)"
   ]
  },
  {
   "cell_type": "code",
   "execution_count": null,
   "id": "85a9e722",
   "metadata": {},
   "outputs": [],
   "source": [
    "print(type(a))"
   ]
  },
  {
   "cell_type": "code",
   "execution_count": null,
   "id": "6d517b40",
   "metadata": {},
   "outputs": [],
   "source": [
    "b=input('Enter a number:')\n",
    "print(b)"
   ]
  },
  {
   "cell_type": "code",
   "execution_count": null,
   "id": "f9787a58",
   "metadata": {},
   "outputs": [],
   "source": [
    "print(type(b))"
   ]
  },
  {
   "cell_type": "code",
   "execution_count": null,
   "id": "4239025b",
   "metadata": {},
   "outputs": [],
   "source": [
    "b=int(b)\n",
    "b"
   ]
  },
  {
   "cell_type": "code",
   "execution_count": null,
   "id": "f3655125",
   "metadata": {},
   "outputs": [],
   "source": [
    "print(type(b))"
   ]
  },
  {
   "cell_type": "markdown",
   "id": "198003e7",
   "metadata": {},
   "source": [
    "## Q1)Addition of two numbers"
   ]
  },
  {
   "cell_type": "code",
   "execution_count": 7,
   "id": "de4f15cf",
   "metadata": {},
   "outputs": [
    {
     "name": "stdout",
     "output_type": "stream",
     "text": [
      "Enter a number a:3\n",
      "Enter a number b:2\n",
      "the sum of a and b is: 5\n"
     ]
    }
   ],
   "source": [
    "a=int(input('Enter a number a:'))\n",
    "b=int(input('Enter a number b:'))\n",
    "print('the sum of a and b is:',a+b)"
   ]
  },
  {
   "cell_type": "code",
   "execution_count": 2,
   "id": "c5ac170e",
   "metadata": {},
   "outputs": [
    {
     "name": "stdout",
     "output_type": "stream",
     "text": [
      "The sum of a and b is : 11\n"
     ]
    }
   ],
   "source": [
    "a=8\n",
    "b=3\n",
    "print('The sum of a and b is :',a+b)"
   ]
  },
  {
   "cell_type": "markdown",
   "id": "c9d81a94",
   "metadata": {},
   "source": [
    "## Q2)Write a python program to find remainder when a number is divided by z.\n"
   ]
  },
  {
   "cell_type": "code",
   "execution_count": 10,
   "id": "824d4b88",
   "metadata": {},
   "outputs": [
    {
     "name": "stdout",
     "output_type": "stream",
     "text": [
      "the remainder when a is divided by b is 11\n"
     ]
    }
   ],
   "source": [
    "a=45\n",
    "b=17\n",
    "print(\"the remainder when a is divided by b is\",a%b)"
   ]
  },
  {
   "cell_type": "markdown",
   "id": "b1e4d38f",
   "metadata": {},
   "source": [
    "## Q3) Check the type of variable assigned using input() function."
   ]
  },
  {
   "cell_type": "code",
   "execution_count": 13,
   "id": "c14c3d68",
   "metadata": {},
   "outputs": [
    {
     "name": "stdout",
     "output_type": "stream",
     "text": [
      "Enter a name:gauri\n"
     ]
    },
    {
     "data": {
      "text/plain": [
       "str"
      ]
     },
     "execution_count": 13,
     "metadata": {},
     "output_type": "execute_result"
    }
   ],
   "source": [
    "a=input('Enter a name:')\n",
    "type(a)"
   ]
  },
  {
   "cell_type": "code",
   "execution_count": 14,
   "id": "02744a61",
   "metadata": {},
   "outputs": [
    {
     "name": "stdout",
     "output_type": "stream",
     "text": [
      "enter a number:6\n"
     ]
    },
    {
     "data": {
      "text/plain": [
       "str"
      ]
     },
     "execution_count": 14,
     "metadata": {},
     "output_type": "execute_result"
    }
   ],
   "source": [
    "a=input('enter a number:')\n",
    "type(a)"
   ]
  },
  {
   "cell_type": "markdown",
   "id": "b59812dc",
   "metadata": {},
   "source": [
    "## Q4) Use comparison operators to find out whether a given variable a is greater than b or not."
   ]
  },
  {
   "cell_type": "code",
   "execution_count": 16,
   "id": "e0c1b290",
   "metadata": {},
   "outputs": [
    {
     "data": {
      "text/plain": [
       "False"
      ]
     },
     "execution_count": 16,
     "metadata": {},
     "output_type": "execute_result"
    }
   ],
   "source": [
    "a=34\n",
    "b=80\n",
    "a>b"
   ]
  },
  {
   "cell_type": "markdown",
   "id": "37e71453",
   "metadata": {},
   "source": [
    "## Q5)Find the avg of two numbers entered by the user"
   ]
  },
  {
   "cell_type": "code",
   "execution_count": 2,
   "id": "45b7d8d7",
   "metadata": {},
   "outputs": [
    {
     "name": "stdout",
     "output_type": "stream",
     "text": [
      "enter a number a:2\n",
      "enter a number b:3\n",
      "The avg of a and b is: 2.5\n"
     ]
    }
   ],
   "source": [
    "a=int(input('enter a number a:'))\n",
    "b=int(input('enter a number b:'))\n",
    "print('The avg of a and b is:',(a+b)/2)"
   ]
  },
  {
   "cell_type": "markdown",
   "id": "71464616",
   "metadata": {},
   "source": [
    "## Q6)Write  a python program to calculate square of number entered by user."
   ]
  },
  {
   "cell_type": "code",
   "execution_count": 4,
   "id": "3846771b",
   "metadata": {},
   "outputs": [
    {
     "name": "stdout",
     "output_type": "stream",
     "text": [
      "enter a number a:3\n",
      "The square of a given number is 9\n"
     ]
    }
   ],
   "source": [
    "a=int(input('enter a number a:'))\n",
    "print('The square of a given number is',a**2)"
   ]
  }
 ],
 "metadata": {
  "kernelspec": {
   "display_name": "Python 3 (ipykernel)",
   "language": "python",
   "name": "python3"
  },
  "language_info": {
   "codemirror_mode": {
    "name": "ipython",
    "version": 3
   },
   "file_extension": ".py",
   "mimetype": "text/x-python",
   "name": "python",
   "nbconvert_exporter": "python",
   "pygments_lexer": "ipython3",
   "version": "3.9.13"
  }
 },
 "nbformat": 4,
 "nbformat_minor": 5
}
