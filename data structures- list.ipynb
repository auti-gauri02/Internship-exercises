{
 "cells": [
  {
   "cell_type": "markdown",
   "id": "97f5ef72",
   "metadata": {},
   "source": [
    "# List: \n",
    " Lists are used to store multiple items in a single variable.List items are ordered,changeable,and allow duplicate values.List can be either homogeneous or heterogeneous."
   ]
  },
  {
   "cell_type": "code",
   "execution_count": 1,
   "id": "51f72d55",
   "metadata": {},
   "outputs": [
    {
     "name": "stdout",
     "output_type": "stream",
     "text": [
      "[1, 'a', 'history', 'apple']\n"
     ]
    }
   ],
   "source": [
    "# Create a list:\n",
    "list=[1,'a','history','apple']\n",
    "print(list)"
   ]
  },
  {
   "cell_type": "markdown",
   "id": "b0526cfa",
   "metadata": {},
   "source": [
    "### Access List Items:\n",
    "List items are access using index number"
   ]
  },
  {
   "cell_type": "code",
   "execution_count": 2,
   "id": "f7193d3f",
   "metadata": {},
   "outputs": [
    {
     "name": "stdout",
     "output_type": "stream",
     "text": [
      "a\n"
     ]
    }
   ],
   "source": [
    "list=[1,'a','history','apple']\n",
    "print(list[1])"
   ]
  },
  {
   "cell_type": "code",
   "execution_count": 3,
   "id": "432cdc87",
   "metadata": {},
   "outputs": [
    {
     "name": "stdout",
     "output_type": "stream",
     "text": [
      "apple\n"
     ]
    }
   ],
   "source": [
    "list=[1,'a','history','apple']\n",
    "print(list[-1])"
   ]
  },
  {
   "cell_type": "code",
   "execution_count": 4,
   "id": "0edffa80",
   "metadata": {},
   "outputs": [
    {
     "name": "stdout",
     "output_type": "stream",
     "text": [
      "[1, 'a', 'history']\n"
     ]
    }
   ],
   "source": [
    "list=[1,'a','history','apple']\n",
    "print(list[0:3])"
   ]
  },
  {
   "cell_type": "markdown",
   "id": "3a34eda0",
   "metadata": {},
   "source": [
    "### Change item value:\n",
    "To change the value of specific item,refer to the index number"
   ]
  },
  {
   "cell_type": "code",
   "execution_count": 5,
   "id": "c45fd975",
   "metadata": {},
   "outputs": [
    {
     "name": "stdout",
     "output_type": "stream",
     "text": [
      "[1, 'pen', 'history', 'apple']\n"
     ]
    }
   ],
   "source": [
    "list=[1,'a','history','apple']\n",
    "list[1]='pen'\n",
    "print(list)\n"
   ]
  },
  {
   "cell_type": "code",
   "execution_count": 6,
   "id": "af48f772",
   "metadata": {},
   "outputs": [
    {
     "name": "stdout",
     "output_type": "stream",
     "text": [
      "[1, 'biology', 'b', 'apple']\n"
     ]
    }
   ],
   "source": [
    "list=[1,'a','history','apple']\n",
    "list[1:3]=['biology','b']\n",
    "print(list)"
   ]
  },
  {
   "cell_type": "markdown",
   "id": "9cbfda3b",
   "metadata": {},
   "source": [
    "## List Methods"
   ]
  },
  {
   "cell_type": "markdown",
   "id": "8e64f1f5",
   "metadata": {},
   "source": [
    "#### append():\n",
    "Adds an element at the end of the list"
   ]
  },
  {
   "cell_type": "code",
   "execution_count": 8,
   "id": "d5839949",
   "metadata": {},
   "outputs": [
    {
     "name": "stdout",
     "output_type": "stream",
     "text": [
      "[1, 'a', 'history', 'apple', 'data science']\n"
     ]
    }
   ],
   "source": [
    "list=[1,'a','history','apple']\n",
    "list.append('data science')\n",
    "print(list)"
   ]
  },
  {
   "cell_type": "code",
   "execution_count": null,
   "id": "07f0b3df",
   "metadata": {},
   "outputs": [],
   "source": [
    "#adds a list to a list\n",
    "list1=[1,'a','history','apple']\n",
    "list2=['b','BMW','cherry']\n",
    "list1.append(list2)\n",
    "print(list1)"
   ]
  },
  {
   "cell_type": "markdown",
   "id": "22775a8c",
   "metadata": {},
   "source": [
    "### extend()\n",
    "Add the elements of a list to the end of the current list."
   ]
  },
  {
   "cell_type": "code",
   "execution_count": 10,
   "id": "d799661c",
   "metadata": {},
   "outputs": [
    {
     "name": "stdout",
     "output_type": "stream",
     "text": [
      "[1, 'a', 'history', 'apple', 'b', 'BMW', 'cherry']\n"
     ]
    }
   ],
   "source": [
    "list1=[1,'a','history','apple']\n",
    "list2=['b','BMW','cherry']\n",
    "list1.extend(list2)\n",
    "print(list1)\n"
   ]
  },
  {
   "cell_type": "code",
   "execution_count": 11,
   "id": "256f485b",
   "metadata": {},
   "outputs": [
    {
     "name": "stdout",
     "output_type": "stream",
     "text": [
      "[1, 'a', 'history', 'apple', 'b', 'BMW', 'cherry']\n"
     ]
    }
   ],
   "source": [
    "#add tuple to the list\n",
    "list1=[1,'a','history','apple']\n",
    "list2=('b','BMW','cherry')\n",
    "list1.extend(list2)\n",
    "print(list1)"
   ]
  },
  {
   "cell_type": "markdown",
   "id": "7fcfe92a",
   "metadata": {},
   "source": [
    "### index()\n",
    "Return index of the first element with the specified value."
   ]
  },
  {
   "cell_type": "code",
   "execution_count": 12,
   "id": "87384890",
   "metadata": {},
   "outputs": [
    {
     "name": "stdout",
     "output_type": "stream",
     "text": [
      "2\n"
     ]
    }
   ],
   "source": [
    "list=[1,'a','history','apple']\n",
    "x=list.index('history')\n",
    "print(x)"
   ]
  },
  {
   "cell_type": "code",
   "execution_count": 13,
   "id": "c9ff7852",
   "metadata": {},
   "outputs": [
    {
     "name": "stdout",
     "output_type": "stream",
     "text": [
      "1\n"
     ]
    }
   ],
   "source": [
    "list1=[1,4,5,4,23]\n",
    "y=list1.index(4)\n",
    "print(y)"
   ]
  },
  {
   "cell_type": "markdown",
   "id": "829d9290",
   "metadata": {},
   "source": [
    "### insert()\n",
    "Adds an element at the specified position.\n"
   ]
  },
  {
   "cell_type": "code",
   "execution_count": 1,
   "id": "30ae0e22",
   "metadata": {},
   "outputs": [
    {
     "name": "stdout",
     "output_type": "stream",
     "text": [
      "[1, 'a', 'orange', 'history', 'apple']\n"
     ]
    }
   ],
   "source": [
    "list=[1,'a','history','apple']\n",
    "list.insert(2,'orange')\n",
    "print(list)"
   ]
  },
  {
   "cell_type": "markdown",
   "id": "360d623f",
   "metadata": {},
   "source": [
    "### pop()\n",
    "Removes the element at the specified position."
   ]
  },
  {
   "cell_type": "code",
   "execution_count": 2,
   "id": "fa87fecb",
   "metadata": {},
   "outputs": [
    {
     "name": "stdout",
     "output_type": "stream",
     "text": [
      "[1, 'a', 'apple']\n"
     ]
    }
   ],
   "source": [
    "list=[1,'a','history','apple']\n",
    "list.pop(2)\n",
    "print(list)"
   ]
  },
  {
   "cell_type": "code",
   "execution_count": 3,
   "id": "8cfbfac5",
   "metadata": {},
   "outputs": [
    {
     "name": "stdout",
     "output_type": "stream",
     "text": [
      "history\n"
     ]
    }
   ],
   "source": [
    "#return the removed element\n",
    "list=[1,'a','history','apple']\n",
    "x=list.pop(2)\n",
    "print(x)"
   ]
  },
  {
   "cell_type": "markdown",
   "id": "4969d1d2",
   "metadata": {},
   "source": [
    "### remove()\n",
    "Removes the item with the specified value."
   ]
  },
  {
   "cell_type": "code",
   "execution_count": 4,
   "id": "847d6b3a",
   "metadata": {},
   "outputs": [
    {
     "name": "stdout",
     "output_type": "stream",
     "text": [
      "[1, 'a', 'apple']\n"
     ]
    }
   ],
   "source": [
    "list=[1,'a','history','apple']\n",
    "list.remove('history')\n",
    "print(list)"
   ]
  },
  {
   "cell_type": "markdown",
   "id": "d30d9f9a",
   "metadata": {},
   "source": [
    "### reverse()\n",
    "Reverses the order of the list."
   ]
  },
  {
   "cell_type": "code",
   "execution_count": 6,
   "id": "dde8724f",
   "metadata": {},
   "outputs": [
    {
     "name": "stdout",
     "output_type": "stream",
     "text": [
      "['apple', 'history', 'a', 1]\n"
     ]
    }
   ],
   "source": [
    "list=[1,'a','history','apple']\n",
    "list.reverse()\n",
    "print(list)"
   ]
  },
  {
   "cell_type": "markdown",
   "id": "c61f5029",
   "metadata": {},
   "source": [
    "### sort()\n",
    "Sorts the list."
   ]
  },
  {
   "cell_type": "code",
   "execution_count": 8,
   "id": "57b38895",
   "metadata": {},
   "outputs": [
    {
     "name": "stdout",
     "output_type": "stream",
     "text": [
      "['apple', 'ford', 'history', 'volvo']\n"
     ]
    }
   ],
   "source": [
    "list=['volvo','ford','history','apple']\n",
    "list.sort()\n",
    "print(list)"
   ]
  },
  {
   "cell_type": "code",
   "execution_count": 9,
   "id": "26942850",
   "metadata": {},
   "outputs": [
    {
     "name": "stdout",
     "output_type": "stream",
     "text": [
      "['volvo', 'history', 'ford', 'apple']\n"
     ]
    }
   ],
   "source": [
    "#sort the list descending\n",
    "list=['volvo','ford','history','apple']\n",
    "list.sort(reverse=True)\n",
    "print(list)"
   ]
  },
  {
   "cell_type": "markdown",
   "id": "40e4dd55",
   "metadata": {},
   "source": [
    "### count()\n",
    "Returns the number of elements with the specified value."
   ]
  },
  {
   "cell_type": "code",
   "execution_count": 10,
   "id": "bdd9ca30",
   "metadata": {},
   "outputs": [
    {
     "name": "stdout",
     "output_type": "stream",
     "text": [
      "1\n"
     ]
    }
   ],
   "source": [
    "list=['volvo','ford','history','apple']\n",
    "x=list.count('apple')\n",
    "print(x)"
   ]
  },
  {
   "cell_type": "markdown",
   "id": "97d97ae2",
   "metadata": {},
   "source": [
    "### copy()\n",
    "Returns a copy of the list."
   ]
  },
  {
   "cell_type": "code",
   "execution_count": 11,
   "id": "8d6b3c68",
   "metadata": {},
   "outputs": [
    {
     "name": "stdout",
     "output_type": "stream",
     "text": [
      "['volvo', 'ford', 'history', 'apple']\n"
     ]
    }
   ],
   "source": [
    "list=['volvo','ford','history','apple']\n",
    "x=list.copy()\n",
    "print(x)"
   ]
  },
  {
   "cell_type": "markdown",
   "id": "75e7d4b8",
   "metadata": {},
   "source": [
    "### clear()\n",
    "Removes all the elements from the list."
   ]
  },
  {
   "cell_type": "code",
   "execution_count": 12,
   "id": "4fb69ec8",
   "metadata": {},
   "outputs": [
    {
     "name": "stdout",
     "output_type": "stream",
     "text": [
      "[]\n"
     ]
    }
   ],
   "source": [
    "list=['volvo','ford','history','apple']\n",
    "list.clear()\n",
    "print(list)"
   ]
  },
  {
   "cell_type": "code",
   "execution_count": null,
   "id": "e551ce64",
   "metadata": {},
   "outputs": [],
   "source": []
  }
 ],
 "metadata": {
  "kernelspec": {
   "display_name": "Python 3 (ipykernel)",
   "language": "python",
   "name": "python3"
  },
  "language_info": {
   "codemirror_mode": {
    "name": "ipython",
    "version": 3
   },
   "file_extension": ".py",
   "mimetype": "text/x-python",
   "name": "python",
   "nbconvert_exporter": "python",
   "pygments_lexer": "ipython3",
   "version": "3.9.13"
  }
 },
 "nbformat": 4,
 "nbformat_minor": 5
}
