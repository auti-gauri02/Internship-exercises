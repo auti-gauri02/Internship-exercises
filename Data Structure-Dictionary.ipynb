{
 "cells": [
  {
   "cell_type": "markdown",
   "id": "c445adff",
   "metadata": {},
   "source": [
    "## Dictionary\n",
    "Dictionaries are used to store data values in key:value pairs.A dictionary is a collection which is ordered,changeable and do not allow duplicates."
   ]
  },
  {
   "cell_type": "code",
   "execution_count": 1,
   "id": "de3532ad",
   "metadata": {},
   "outputs": [
    {
     "name": "stdout",
     "output_type": "stream",
     "text": [
      "{'brand': 'Ford', 'model': 'Mustang', 'year': 1964}\n"
     ]
    }
   ],
   "source": [
    "#Create a Dictionary\n",
    "mydict={\"brand\":\"Ford\",\"model\":\"Mustang\",\"year\":1964}\n",
    "print(mydict)"
   ]
  },
  {
   "cell_type": "code",
   "execution_count": 2,
   "id": "60b1af71",
   "metadata": {},
   "outputs": [
    {
     "name": "stdout",
     "output_type": "stream",
     "text": [
      "Ford\n"
     ]
    }
   ],
   "source": [
    "#print \"brand\" value of the dictionary.\n",
    "mydict={\"brand\":\"Ford\",\"model\":\"Mustang\",\"year\":1964}\n",
    "print(mydict['brand'])"
   ]
  },
  {
   "cell_type": "markdown",
   "id": "9477ac39",
   "metadata": {},
   "source": [
    "### Dictionary Length"
   ]
  },
  {
   "cell_type": "code",
   "execution_count": 3,
   "id": "539e5057",
   "metadata": {},
   "outputs": [
    {
     "name": "stdout",
     "output_type": "stream",
     "text": [
      "3\n"
     ]
    }
   ],
   "source": [
    "#print the number of items in the dictionary.\n",
    "mydict={\"brand\":\"Ford\",\"model\":\"Mustang\",\"year\":1964}\n",
    "print(len(mydict))"
   ]
  },
  {
   "cell_type": "markdown",
   "id": "aea62d60",
   "metadata": {},
   "source": [
    "### Data Types\n"
   ]
  },
  {
   "cell_type": "code",
   "execution_count": 4,
   "id": "020877e6",
   "metadata": {},
   "outputs": [
    {
     "name": "stdout",
     "output_type": "stream",
     "text": [
      "<class 'dict'>\n"
     ]
    }
   ],
   "source": [
    "mydict={\"brand\":\"Ford\",\"model\":\"Mustang\",\"year\":1964}\n",
    "print(type(mydict))"
   ]
  },
  {
   "cell_type": "markdown",
   "id": "e9cf8ba8",
   "metadata": {},
   "source": [
    "### Access dictionary items"
   ]
  },
  {
   "cell_type": "code",
   "execution_count": 5,
   "id": "b05ed822",
   "metadata": {},
   "outputs": [
    {
     "name": "stdout",
     "output_type": "stream",
     "text": [
      "1964\n"
     ]
    }
   ],
   "source": [
    "mydict={\"brand\":\"Ford\",\"model\":\"Mustang\",\"year\":1964}\n",
    "x=mydict['year']\n",
    "print(x)"
   ]
  },
  {
   "cell_type": "code",
   "execution_count": 6,
   "id": "1aa44e26",
   "metadata": {},
   "outputs": [
    {
     "name": "stdout",
     "output_type": "stream",
     "text": [
      "Mustang\n"
     ]
    }
   ],
   "source": [
    "#get the value of the 'model' key.\n",
    "mydict={\"brand\":\"Ford\",\"model\":\"Mustang\",\"year\":1964}\n",
    "x=mydict.get('model')\n",
    "print(x)"
   ]
  },
  {
   "cell_type": "markdown",
   "id": "ee62db50",
   "metadata": {},
   "source": [
    "### Get Keys\n"
   ]
  },
  {
   "cell_type": "code",
   "execution_count": 7,
   "id": "59307460",
   "metadata": {},
   "outputs": [
    {
     "name": "stdout",
     "output_type": "stream",
     "text": [
      "dict_keys(['brand', 'model', 'year'])\n"
     ]
    }
   ],
   "source": [
    "mydict={\"brand\":\"Ford\",\"model\":\"Mustang\",\"year\":1964}\n",
    "x=mydict.keys()\n",
    "print(x)"
   ]
  },
  {
   "cell_type": "markdown",
   "id": "10009b3d",
   "metadata": {},
   "source": [
    "### Get Values"
   ]
  },
  {
   "cell_type": "code",
   "execution_count": 8,
   "id": "42fb7995",
   "metadata": {},
   "outputs": [
    {
     "name": "stdout",
     "output_type": "stream",
     "text": [
      "dict_values(['Ford', 'Mustang', 1964])\n"
     ]
    }
   ],
   "source": [
    "mydict={\"brand\":\"Ford\",\"model\":\"Mustang\",\"year\":1964}\n",
    "x=mydict.values()\n",
    "print(x)"
   ]
  },
  {
   "cell_type": "markdown",
   "id": "e6841c95",
   "metadata": {},
   "source": [
    "### Get items"
   ]
  },
  {
   "cell_type": "code",
   "execution_count": 9,
   "id": "be23d733",
   "metadata": {},
   "outputs": [
    {
     "name": "stdout",
     "output_type": "stream",
     "text": [
      "dict_items([('brand', 'Ford'), ('model', 'Mustang'), ('year', 1964)])\n"
     ]
    }
   ],
   "source": [
    "mydict={\"brand\":\"Ford\",\"model\":\"Mustang\",\"year\":1964}\n",
    "x=mydict.items()\n",
    "print(x)"
   ]
  },
  {
   "cell_type": "markdown",
   "id": "227faeb6",
   "metadata": {},
   "source": [
    "### Change Values"
   ]
  },
  {
   "cell_type": "code",
   "execution_count": 12,
   "id": "bde52c2b",
   "metadata": {},
   "outputs": [
    {
     "name": "stdout",
     "output_type": "stream",
     "text": [
      "{'brand': 'Ford', 'model': 'Mustang', 'year': 2002}\n"
     ]
    }
   ],
   "source": [
    "#update value of year\n",
    "mydict={\"brand\":\"Ford\",\"model\":\"Mustang\",\"year\":1964}\n",
    "mydict['year']=2002\n",
    "print(mydict)"
   ]
  },
  {
   "cell_type": "markdown",
   "id": "2b687dda",
   "metadata": {},
   "source": [
    "### Update Dictionary\n"
   ]
  },
  {
   "cell_type": "code",
   "execution_count": 15,
   "id": "58d03a11",
   "metadata": {},
   "outputs": [
    {
     "name": "stdout",
     "output_type": "stream",
     "text": [
      "{'brand': 'Ford', 'model': 'Mustang', 'year': 2018}\n"
     ]
    }
   ],
   "source": [
    "mydict={\"brand\":\"Ford\",\"model\":\"Mustang\",\"year\":1964}\n",
    "mydict.update({'year':2018})\n",
    "print(mydict)"
   ]
  },
  {
   "cell_type": "markdown",
   "id": "2e3887e1",
   "metadata": {},
   "source": [
    "### Add Dictionary Items"
   ]
  },
  {
   "cell_type": "code",
   "execution_count": 16,
   "id": "32688441",
   "metadata": {},
   "outputs": [
    {
     "name": "stdout",
     "output_type": "stream",
     "text": [
      "{'brand': 'Ford', 'model': 'Mustang', 'year': 1964, 'color': 'blue'}\n"
     ]
    }
   ],
   "source": [
    "mydict={\"brand\":\"Ford\",\"model\":\"Mustang\",\"year\":1964}\n",
    "mydict['color']='blue'\n",
    "print(mydict)"
   ]
  },
  {
   "cell_type": "code",
   "execution_count": 17,
   "id": "57561d01",
   "metadata": {},
   "outputs": [
    {
     "name": "stdout",
     "output_type": "stream",
     "text": [
      "{'brand': 'Ford', 'model': 'Mustang', 'year': 1964, 'color': 'red'}\n"
     ]
    }
   ],
   "source": [
    "#by using update() method\n",
    "mydict={\"brand\":\"Ford\",\"model\":\"Mustang\",\"year\":1964}\n",
    "mydict.update({'color':'red'})\n",
    "print(mydict)"
   ]
  },
  {
   "cell_type": "markdown",
   "id": "ac0da052",
   "metadata": {},
   "source": [
    "### Remove Dictionary Items"
   ]
  },
  {
   "cell_type": "markdown",
   "id": "b2860b5a",
   "metadata": {},
   "source": [
    "#### pop() \n",
    "It removes the item with the specified key name."
   ]
  },
  {
   "cell_type": "code",
   "execution_count": 18,
   "id": "b1ef7060",
   "metadata": {},
   "outputs": [
    {
     "name": "stdout",
     "output_type": "stream",
     "text": [
      "{'brand': 'Ford', 'year': 1964}\n"
     ]
    }
   ],
   "source": [
    "mydict={\"brand\":\"Ford\",\"model\":\"Mustang\",\"year\":1964}\n",
    "mydict.pop('model')\n",
    "print(mydict)"
   ]
  },
  {
   "cell_type": "markdown",
   "id": "ffce5cef",
   "metadata": {},
   "source": [
    "#### popitem()\n",
    "It removes the last inserted item."
   ]
  },
  {
   "cell_type": "code",
   "execution_count": 19,
   "id": "d4a672e0",
   "metadata": {},
   "outputs": [
    {
     "name": "stdout",
     "output_type": "stream",
     "text": [
      "{'brand': 'Ford', 'model': 'Mustang'}\n"
     ]
    }
   ],
   "source": [
    "mydict={\"brand\":\"Ford\",\"model\":\"Mustang\",\"year\":1964}\n",
    "mydict.popitem()\n",
    "print(mydict)"
   ]
  },
  {
   "cell_type": "markdown",
   "id": "64ebf771",
   "metadata": {},
   "source": [
    "#### del\n",
    "It is used to delete dictionary completely."
   ]
  },
  {
   "cell_type": "code",
   "execution_count": 24,
   "id": "1f09fa77",
   "metadata": {},
   "outputs": [
    {
     "ename": "NameError",
     "evalue": "name 'mydict' is not defined",
     "output_type": "error",
     "traceback": [
      "\u001b[1;31m---------------------------------------------------------------------------\u001b[0m",
      "\u001b[1;31mNameError\u001b[0m                                 Traceback (most recent call last)",
      "\u001b[1;32m~\\AppData\\Local\\Temp\\ipykernel_7788\\3298244290.py\u001b[0m in \u001b[0;36m<module>\u001b[1;34m\u001b[0m\n\u001b[0;32m      1\u001b[0m \u001b[0mmydict\u001b[0m\u001b[1;33m=\u001b[0m\u001b[1;33m{\u001b[0m\u001b[1;34m\"brand\"\u001b[0m\u001b[1;33m:\u001b[0m\u001b[1;34m\"Ford\"\u001b[0m\u001b[1;33m,\u001b[0m\u001b[1;34m\"model\"\u001b[0m\u001b[1;33m:\u001b[0m\u001b[1;34m\"Mustang\"\u001b[0m\u001b[1;33m,\u001b[0m\u001b[1;34m\"year\"\u001b[0m\u001b[1;33m:\u001b[0m\u001b[1;36m1964\u001b[0m\u001b[1;33m}\u001b[0m\u001b[1;33m\u001b[0m\u001b[1;33m\u001b[0m\u001b[0m\n\u001b[0;32m      2\u001b[0m \u001b[1;32mdel\u001b[0m\u001b[1;33m(\u001b[0m\u001b[0mmydict\u001b[0m\u001b[1;33m)\u001b[0m\u001b[1;33m\u001b[0m\u001b[1;33m\u001b[0m\u001b[0m\n\u001b[1;32m----> 3\u001b[1;33m \u001b[0mprint\u001b[0m\u001b[1;33m(\u001b[0m\u001b[0mmydict\u001b[0m\u001b[1;33m)\u001b[0m\u001b[1;31m#this will cause error because 'mydict' no longer exists\u001b[0m\u001b[1;33m\u001b[0m\u001b[1;33m\u001b[0m\u001b[0m\n\u001b[0m",
      "\u001b[1;31mNameError\u001b[0m: name 'mydict' is not defined"
     ]
    }
   ],
   "source": [
    "mydict={\"brand\":\"Ford\",\"model\":\"Mustang\",\"year\":1964}\n",
    "del(mydict)\n",
    "print(mydict)#this will cause error because 'mydict' no longer exists"
   ]
  },
  {
   "cell_type": "markdown",
   "id": "516f1887",
   "metadata": {},
   "source": [
    "#### clear()\n",
    "The clear method empties the dictionary."
   ]
  },
  {
   "cell_type": "code",
   "execution_count": 25,
   "id": "03d29342",
   "metadata": {},
   "outputs": [
    {
     "name": "stdout",
     "output_type": "stream",
     "text": [
      "{}\n"
     ]
    }
   ],
   "source": [
    "mydict={\"brand\":\"Ford\",\"model\":\"Mustang\",\"year\":1964}\n",
    "mydict.clear()\n",
    "print(mydict)"
   ]
  },
  {
   "cell_type": "markdown",
   "id": "0daf2da7",
   "metadata": {},
   "source": [
    "### Loop Dictionaries"
   ]
  },
  {
   "cell_type": "code",
   "execution_count": 26,
   "id": "05c1148f",
   "metadata": {},
   "outputs": [
    {
     "name": "stdout",
     "output_type": "stream",
     "text": [
      "brand\n",
      "model\n",
      "year\n"
     ]
    }
   ],
   "source": [
    "#print all keys\n",
    "mydict={\"brand\":\"Ford\",\"model\":\"Mustang\",\"year\":1964}\n",
    "for x in mydict:\n",
    "    print(x)"
   ]
  },
  {
   "cell_type": "code",
   "execution_count": 28,
   "id": "a41e7a17",
   "metadata": {},
   "outputs": [
    {
     "name": "stdout",
     "output_type": "stream",
     "text": [
      "Ford\n",
      "Mustang\n",
      "1964\n"
     ]
    }
   ],
   "source": [
    "#print all values\n",
    "mydict={\"brand\":\"Ford\",\"model\":\"Mustang\",\"year\":1964}\n",
    "for x in mydict:\n",
    "    print(mydict[x])"
   ]
  },
  {
   "cell_type": "code",
   "execution_count": 31,
   "id": "476339e1",
   "metadata": {},
   "outputs": [
    {
     "name": "stdout",
     "output_type": "stream",
     "text": [
      "Ford\n",
      "Mustang\n",
      "1964\n"
     ]
    }
   ],
   "source": [
    "mydict={\"brand\":\"Ford\",\"model\":\"Mustang\",\"year\":1964}\n",
    "for x in mydict.values():\n",
    "    print(x)"
   ]
  },
  {
   "cell_type": "code",
   "execution_count": 32,
   "id": "10990296",
   "metadata": {},
   "outputs": [
    {
     "name": "stdout",
     "output_type": "stream",
     "text": [
      "brand\n",
      "model\n",
      "year\n"
     ]
    }
   ],
   "source": [
    "mydict={\"brand\":\"Ford\",\"model\":\"Mustang\",\"year\":1964}\n",
    "for x in mydict.keys():\n",
    "    print(x)"
   ]
  },
  {
   "cell_type": "code",
   "execution_count": 33,
   "id": "ec15f42e",
   "metadata": {},
   "outputs": [
    {
     "name": "stdout",
     "output_type": "stream",
     "text": [
      "brand Ford\n",
      "model Mustang\n",
      "year 1964\n"
     ]
    }
   ],
   "source": [
    "mydict={\"brand\":\"Ford\",\"model\":\"Mustang\",\"year\":1964}\n",
    "for x,y in mydict.items():\n",
    "    print(x,y)"
   ]
  },
  {
   "cell_type": "markdown",
   "id": "b0e3de16",
   "metadata": {},
   "source": [
    "### Copy Dictionaries"
   ]
  },
  {
   "cell_type": "code",
   "execution_count": 34,
   "id": "ed9c7a15",
   "metadata": {},
   "outputs": [
    {
     "name": "stdout",
     "output_type": "stream",
     "text": [
      "{'brand': 'Ford', 'model': 'Mustang', 'year': 1964}\n"
     ]
    }
   ],
   "source": [
    "mydict={\"brand\":\"Ford\",\"model\":\"Mustang\",\"year\":1964}\n",
    "z=mydict.copy()\n",
    "print(z)"
   ]
  }
 ],
 "metadata": {
  "kernelspec": {
   "display_name": "Python 3 (ipykernel)",
   "language": "python",
   "name": "python3"
  },
  "language_info": {
   "codemirror_mode": {
    "name": "ipython",
    "version": 3
   },
   "file_extension": ".py",
   "mimetype": "text/x-python",
   "name": "python",
   "nbconvert_exporter": "python",
   "pygments_lexer": "ipython3",
   "version": "3.9.13"
  }
 },
 "nbformat": 4,
 "nbformat_minor": 5
}
