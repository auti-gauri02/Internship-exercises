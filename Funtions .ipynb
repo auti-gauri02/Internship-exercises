{
 "cells": [
  {
   "cell_type": "markdown",
   "id": "9f524eea",
   "metadata": {},
   "source": [
    "## Functions:\n",
    "Functions is a reusable piece of code that can be called using a function's name.\n",
    "\n",
    "Functions allow the same piece of code to run multiple times.\n",
    "\n",
    "Functions break long programs up into smaller components."
   ]
  },
  {
   "cell_type": "code",
   "execution_count": 2,
   "id": "c69f7e4a",
   "metadata": {},
   "outputs": [],
   "source": [
    "#Creating a function\n",
    "def my_function():\n",
    "  print(\"Hello\")"
   ]
  },
  {
   "cell_type": "code",
   "execution_count": 4,
   "id": "1b925279",
   "metadata": {},
   "outputs": [
    {
     "name": "stdout",
     "output_type": "stream",
     "text": [
      "Hello\n"
     ]
    }
   ],
   "source": [
    "#calling a function\n",
    "def my_function():\n",
    "  print(\"Hello\")\n",
    "my_function()"
   ]
  },
  {
   "cell_type": "markdown",
   "id": "2a138ca6",
   "metadata": {},
   "source": [
    "#### Calculator Program"
   ]
  },
  {
   "cell_type": "code",
   "execution_count": 7,
   "id": "25cf17f5",
   "metadata": {},
   "outputs": [
    {
     "name": "stdout",
     "output_type": "stream",
     "text": [
      "Addition: 15\n",
      "Subtraction: 5\n",
      "Multiplication: 50\n",
      "Division: 2.0\n"
     ]
    }
   ],
   "source": [
    "\n",
    "def add(x, y):\n",
    "    return x + y\n",
    "\n",
    "def subtract(x, y):\n",
    "    return x - y\n",
    "\n",
    "def multiply(x, y):\n",
    "    return x * y\n",
    "\n",
    "def divide(x, y):\n",
    "    if y != 0:\n",
    "        return x / y\n",
    "    else:\n",
    "        return \"Not possible\"\n",
    "\n",
    "num1 = 10\n",
    "num2 = 5\n",
    "\n",
    "print(\"Addition:\", add(num1, num2))\n",
    "print(\"Subtraction:\", subtract(num1, num2))\n",
    "print(\"Multiplication:\", multiply(num1, num2))\n",
    "print(\"Division:\", divide(num1, num2))\n"
   ]
  },
  {
   "cell_type": "markdown",
   "id": "5c05a830",
   "metadata": {},
   "source": [
    "#### Factorial Program"
   ]
  },
  {
   "cell_type": "code",
   "execution_count": 8,
   "id": "40d48008",
   "metadata": {},
   "outputs": [
    {
     "data": {
      "text/plain": [
       "120"
      ]
     },
     "execution_count": 8,
     "metadata": {},
     "output_type": "execute_result"
    }
   ],
   "source": [
    "def factorial(n):\n",
    "    if n == 0 or n == 1:\n",
    "        return 1\n",
    "    else:\n",
    "        return n * factorial(n - 1)\n",
    "\n",
    "num = 5\n",
    "factorial(num)\n"
   ]
  },
  {
   "cell_type": "markdown",
   "id": "b7522ddc",
   "metadata": {},
   "source": [
    "#### Palindrome Check"
   ]
  },
  {
   "cell_type": "code",
   "execution_count": 12,
   "id": "4e765423",
   "metadata": {},
   "outputs": [
    {
     "data": {
      "text/plain": [
       "True"
      ]
     },
     "execution_count": 12,
     "metadata": {},
     "output_type": "execute_result"
    }
   ],
   "source": [
    "def palindrome(s):\n",
    "    return s== s[::-1]\n",
    "\n",
    "word = \"radar\"\n",
    "palindrome(word)\n"
   ]
  },
  {
   "cell_type": "markdown",
   "id": "f7dc0af5",
   "metadata": {},
   "source": [
    "#### Reverse a string using function"
   ]
  },
  {
   "cell_type": "code",
   "execution_count": 13,
   "id": "d31f54b1",
   "metadata": {},
   "outputs": [
    {
     "data": {
      "text/plain": [
       "'iruag'"
      ]
     },
     "execution_count": 13,
     "metadata": {},
     "output_type": "execute_result"
    }
   ],
   "source": [
    "def reverse(s):\n",
    "    return s[::-1]\n",
    "str='gauri'\n",
    "reverse(str)"
   ]
  },
  {
   "cell_type": "markdown",
   "id": "e754e201",
   "metadata": {},
   "source": [
    "#### Even and odd number separation"
   ]
  },
  {
   "cell_type": "code",
   "execution_count": 15,
   "id": "a6be5c20",
   "metadata": {},
   "outputs": [
    {
     "name": "stdout",
     "output_type": "stream",
     "text": [
      "[2, 4, 6, 8]\n",
      "[1, 3, 5, 7, 9]\n"
     ]
    }
   ],
   "source": [
    "def separate_even_odd(numbers):\n",
    "    even = [num for num in numbers if num % 2 == 0]\n",
    "    odd = [num for num in numbers if num % 2 != 0]\n",
    "    return even, odd\n",
    "\n",
    "num_list = [1, 2, 3, 4, 5, 6, 7, 8, 9]\n",
    "even,odd=separate_even_odd(num_list)\n",
    "print(even)\n",
    "print(odd)\n"
   ]
  },
  {
   "cell_type": "markdown",
   "id": "0781583b",
   "metadata": {},
   "source": [
    "### Lambda Function\n",
    "A lambda function is a small anonymous function.\n",
    "\n",
    "A lambda function can take any number of arguments, but can only have one expression."
   ]
  },
  {
   "cell_type": "code",
   "execution_count": 16,
   "id": "714a2a0e",
   "metadata": {},
   "outputs": [
    {
     "name": "stdout",
     "output_type": "stream",
     "text": [
      "15\n"
     ]
    }
   ],
   "source": [
    "x = lambda a: a + 10\n",
    "print(x(5))"
   ]
  },
  {
   "cell_type": "code",
   "execution_count": 17,
   "id": "c7660c75",
   "metadata": {},
   "outputs": [
    {
     "name": "stdout",
     "output_type": "stream",
     "text": [
      "30\n"
     ]
    }
   ],
   "source": [
    "x = lambda a, b : a * b\n",
    "print(x(5, 6))"
   ]
  },
  {
   "cell_type": "code",
   "execution_count": 18,
   "id": "ff667c47",
   "metadata": {},
   "outputs": [
    {
     "name": "stdout",
     "output_type": "stream",
     "text": [
      "13\n"
     ]
    }
   ],
   "source": [
    "x = lambda a, b, c: a + b + c\n",
    "print(x(5, 6, 2))\n"
   ]
  },
  {
   "cell_type": "markdown",
   "id": "0cab5bb6",
   "metadata": {},
   "source": [
    "##### Use lambda functions when an anonymous function is required for a short period of time."
   ]
  }
 ],
 "metadata": {
  "kernelspec": {
   "display_name": "Python 3 (ipykernel)",
   "language": "python",
   "name": "python3"
  },
  "language_info": {
   "codemirror_mode": {
    "name": "ipython",
    "version": 3
   },
   "file_extension": ".py",
   "mimetype": "text/x-python",
   "name": "python",
   "nbconvert_exporter": "python",
   "pygments_lexer": "ipython3",
   "version": "3.9.13"
  }
 },
 "nbformat": 4,
 "nbformat_minor": 5
}
