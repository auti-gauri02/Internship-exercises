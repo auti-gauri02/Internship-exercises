{
 "cells": [
  {
   "cell_type": "markdown",
   "id": "913cfd79",
   "metadata": {},
   "source": [
    "## Queue\n",
    "Queue in python is a linear data structure with rear and a front end similar to stack.It stores items sequentially in a FIFO(First In First Out) manner.The item that is least recently added to the list will be removed first.\n",
    "For ex.A customer services queue that functions on a first-come-first-serve basis.\n"
   ]
  },
  {
   "cell_type": "markdown",
   "id": "b746df78",
   "metadata": {},
   "source": [
    "### Queue Operation\n",
    "Enqueue:It adds an element to the end of the queue.\n",
    "\n",
    "Dequeue:It removes an element from the queue.\n",
    "\n",
    "Front:It gives you the first item from the queue.\n",
    "\n",
    "Rare:It gives you the last item from the queue."
   ]
  },
  {
   "cell_type": "code",
   "execution_count": 9,
   "id": "08ba73f8",
   "metadata": {},
   "outputs": [
    {
     "name": "stdout",
     "output_type": "stream",
     "text": [
      "2\n",
      "5\n",
      "4\n",
      "8\n",
      "[]\n"
     ]
    }
   ],
   "source": [
    "queue=[]\n",
    "queue.append(2)\n",
    "queue.append(5)\n",
    "queue.append(4)\n",
    "queue.append(8)\n",
    "print(queue.pop(0))\n",
    "print(queue.pop(0))\n",
    "print(queue.pop(0))\n",
    "print(queue.pop(0))\n",
    "\n",
    "print(queue)"
   ]
  },
  {
   "cell_type": "code",
   "execution_count": 10,
   "id": "2f9fade4",
   "metadata": {},
   "outputs": [
    {
     "name": "stdout",
     "output_type": "stream",
     "text": [
      "Queue after enqueuing 1, 2, and 3: [1, 2, 3]\n",
      "Dequeued item: 1\n",
      "Queue after dequeuing one element: [2, 3]\n"
     ]
    }
   ],
   "source": [
    "class Queue:\n",
    "    def __init__(self):\n",
    "        self.items = []\n",
    "\n",
    "    def enqueue(self, item):\n",
    "        \"\"\"Add an element to the rear of the queue.\"\"\"\n",
    "        self.items.append(item)\n",
    "\n",
    "    def dequeue(self):\n",
    "        \"\"\"Remove and return the element from the front of the queue.\"\"\"\n",
    "        if not self.is_empty():\n",
    "            return self.items.pop(0)\n",
    "        else:\n",
    "            print(\"Queue is empty. Cannot dequeue.\")\n",
    "            return None\n",
    "\n",
    "    def is_empty(self):\n",
    "        \"\"\"Check if the queue is empty.\"\"\"\n",
    "        return len(self.items) == 0\n",
    "\n",
    "    def size(self):\n",
    "        \"\"\"Return the number of elements in the queue.\"\"\"\n",
    "        return len(self.items)\n",
    "\n",
    "# Example usage:\n",
    "queue = Queue()\n",
    "\n",
    "queue.enqueue(1)\n",
    "queue.enqueue(2)\n",
    "queue.enqueue(3)\n",
    "\n",
    "print(\"Queue after enqueuing 1, 2, and 3:\", queue.items)\n",
    "\n",
    "dequeued_item = queue.dequeue()\n",
    "print(\"Dequeued item:\", dequeued_item)\n",
    "print(\"Queue after dequeuing one element:\", queue.items)\n"
   ]
  }
 ],
 "metadata": {
  "kernelspec": {
   "display_name": "Python 3 (ipykernel)",
   "language": "python",
   "name": "python3"
  },
  "language_info": {
   "codemirror_mode": {
    "name": "ipython",
    "version": 3
   },
   "file_extension": ".py",
   "mimetype": "text/x-python",
   "name": "python",
   "nbconvert_exporter": "python",
   "pygments_lexer": "ipython3",
   "version": "3.9.13"
  }
 },
 "nbformat": 4,
 "nbformat_minor": 5
}
