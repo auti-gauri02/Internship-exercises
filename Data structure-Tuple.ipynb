{
 "cells": [
  {
   "cell_type": "markdown",
   "id": "9c0132f7",
   "metadata": {},
   "source": [
    "## Tuple:\n",
    "Tuples are used to store multiple items in a single variable.A tuple is a collection which is ordered,unchangeable,and allow duplicate values."
   ]
  },
  {
   "cell_type": "code",
   "execution_count": 1,
   "id": "c19e8740",
   "metadata": {},
   "outputs": [
    {
     "name": "stdout",
     "output_type": "stream",
     "text": [
      "('geology', 'b', 'cherry', 'exam')\n"
     ]
    }
   ],
   "source": [
    "#Create a Tuple\n",
    "mytuple=('geology','b','cherry','exam')\n",
    "print(mytuple)"
   ]
  },
  {
   "cell_type": "markdown",
   "id": "a91c2a45",
   "metadata": {},
   "source": [
    "### Tuple length"
   ]
  },
  {
   "cell_type": "code",
   "execution_count": 2,
   "id": "e97dca22",
   "metadata": {},
   "outputs": [
    {
     "name": "stdout",
     "output_type": "stream",
     "text": [
      "4\n"
     ]
    }
   ],
   "source": [
    "mytuple=('geology','b','cherry','exam')\n",
    "print(len(mytuple))"
   ]
  },
  {
   "cell_type": "markdown",
   "id": "03549e7f",
   "metadata": {},
   "source": [
    "### Data type of a tuple"
   ]
  },
  {
   "cell_type": "code",
   "execution_count": 3,
   "id": "63de1028",
   "metadata": {},
   "outputs": [
    {
     "name": "stdout",
     "output_type": "stream",
     "text": [
      "<class 'tuple'>\n"
     ]
    }
   ],
   "source": [
    "mytuple=('geology','b','cherry','exam')\n",
    "print(type(mytuple))"
   ]
  },
  {
   "cell_type": "markdown",
   "id": "6da761bf",
   "metadata": {},
   "source": [
    "### Access tuple items"
   ]
  },
  {
   "cell_type": "code",
   "execution_count": 4,
   "id": "1185b40e",
   "metadata": {},
   "outputs": [
    {
     "name": "stdout",
     "output_type": "stream",
     "text": [
      "cherry\n"
     ]
    }
   ],
   "source": [
    "mytuple=('geology','b','cherry','exam')\n",
    "print(mytuple[2])"
   ]
  },
  {
   "cell_type": "code",
   "execution_count": 5,
   "id": "de8ebce8",
   "metadata": {},
   "outputs": [
    {
     "name": "stdout",
     "output_type": "stream",
     "text": [
      "exam\n"
     ]
    }
   ],
   "source": [
    "mytuple=('geology','b','cherry','exam')\n",
    "print(mytuple[-1])"
   ]
  },
  {
   "cell_type": "code",
   "execution_count": 6,
   "id": "d15e027b",
   "metadata": {},
   "outputs": [
    {
     "name": "stdout",
     "output_type": "stream",
     "text": [
      "('b', 'cherry')\n"
     ]
    }
   ],
   "source": [
    "mytuple=('geology','b','cherry','exam')\n",
    "print(mytuple[1:3])"
   ]
  },
  {
   "cell_type": "code",
   "execution_count": 7,
   "id": "15f523aa",
   "metadata": {},
   "outputs": [
    {
     "name": "stdout",
     "output_type": "stream",
     "text": [
      "('geology', 'b', 'cherry')\n"
     ]
    }
   ],
   "source": [
    "mytuple=('geology','b','cherry','exam')\n",
    "print(mytuple[:3])"
   ]
  },
  {
   "cell_type": "code",
   "execution_count": 8,
   "id": "60370323",
   "metadata": {},
   "outputs": [
    {
     "name": "stdout",
     "output_type": "stream",
     "text": [
      "('geology', 'b', 'cherry', 'exam')\n"
     ]
    }
   ],
   "source": [
    "mytuple=('geology','b','cherry','exam')\n",
    "print(mytuple[0:])"
   ]
  },
  {
   "cell_type": "markdown",
   "id": "eab13767",
   "metadata": {},
   "source": [
    "### Update tuple\n",
    "Since tuples are unchangeable or immutable.For updating tuple, we have to convert tuple into a list."
   ]
  },
  {
   "cell_type": "markdown",
   "id": "ddda049b",
   "metadata": {},
   "source": [
    "#### Change tuple values"
   ]
  },
  {
   "cell_type": "code",
   "execution_count": 9,
   "id": "504d9095",
   "metadata": {},
   "outputs": [
    {
     "name": "stdout",
     "output_type": "stream",
     "text": [
      "('geology', 'b', 'vento', 'exam')\n"
     ]
    }
   ],
   "source": [
    "x = ('geology', 'b', 'cherry', 'exam')\n",
    "y = list(x)\n",
    "y[2] = 'vento'\n",
    "x = tuple(y)\n",
    "print(x)\n"
   ]
  },
  {
   "cell_type": "markdown",
   "id": "8e4c8e7c",
   "metadata": {},
   "source": [
    "#### Add items"
   ]
  },
  {
   "cell_type": "code",
   "execution_count": 11,
   "id": "ee6f466b",
   "metadata": {},
   "outputs": [
    {
     "name": "stdout",
     "output_type": "stream",
     "text": [
      "('geology', 'b', 'cherry', 'exam', 'orange')\n"
     ]
    }
   ],
   "source": [
    "#convert into a list\n",
    "x = ('geology', 'b', 'cherry', 'exam')\n",
    "y=list(x)\n",
    "y.append('orange')\n",
    "x=tuple(y)\n",
    "print(x)"
   ]
  },
  {
   "cell_type": "code",
   "execution_count": 12,
   "id": "a5a2c7a5",
   "metadata": {
    "scrolled": true
   },
   "outputs": [
    {
     "name": "stdout",
     "output_type": "stream",
     "text": [
      "('geology', 'b', 'cherry', 'exam', 'orange')\n"
     ]
    }
   ],
   "source": [
    "#add tuple to a tuple\n",
    "x = ('geology', 'b', 'cherry', 'exam')\n",
    "y=('orange',)\n",
    "x+=y\n",
    "print(x)"
   ]
  },
  {
   "cell_type": "markdown",
   "id": "0860307b",
   "metadata": {},
   "source": [
    "### Unpack Tuples\n",
    "When we create a tuple,we normally assign values to it.But in python ,we are also allowed to extract the values back into a variables.This is called 'unpacking'."
   ]
  },
  {
   "cell_type": "code",
   "execution_count": 13,
   "id": "d7e0591d",
   "metadata": {},
   "outputs": [
    {
     "name": "stdout",
     "output_type": "stream",
     "text": [
      "geology\n",
      "b\n",
      "cherry\n",
      "exam\n"
     ]
    }
   ],
   "source": [
    "mytuple=('geology','b','cherry','exam')\n",
    "(p,q,r,s)=mytuple\n",
    "print(p)\n",
    "print(q)\n",
    "print(r)\n",
    "print(s)"
   ]
  },
  {
   "cell_type": "markdown",
   "id": "58821387",
   "metadata": {},
   "source": [
    "### Loop Tuples\n"
   ]
  },
  {
   "cell_type": "markdown",
   "id": "978194c4",
   "metadata": {},
   "source": [
    "#### for loop"
   ]
  },
  {
   "cell_type": "code",
   "execution_count": 14,
   "id": "719835ae",
   "metadata": {},
   "outputs": [
    {
     "name": "stdout",
     "output_type": "stream",
     "text": [
      "geology\n",
      "b\n",
      "cherry\n",
      "exam\n"
     ]
    }
   ],
   "source": [
    "mytuple=('geology','b','cherry','exam')\n",
    "for i in mytuple:\n",
    "    print(i)"
   ]
  },
  {
   "cell_type": "markdown",
   "id": "5dd06700",
   "metadata": {},
   "source": [
    "#### while loop"
   ]
  },
  {
   "cell_type": "code",
   "execution_count": 16,
   "id": "7b11202e",
   "metadata": {},
   "outputs": [
    {
     "name": "stdout",
     "output_type": "stream",
     "text": [
      "geology\n",
      "b\n",
      "cherry\n",
      "exam\n"
     ]
    }
   ],
   "source": [
    "mytuple=('geology','b','cherry','exam')\n",
    "i=0\n",
    "while i<len(mytuple):\n",
    "    print(mytuple[i])\n",
    "    i=i+1"
   ]
  },
  {
   "cell_type": "markdown",
   "id": "afeef1d8",
   "metadata": {},
   "source": [
    "### Join Tuples\n",
    "\n"
   ]
  },
  {
   "cell_type": "code",
   "execution_count": 17,
   "id": "8211cec5",
   "metadata": {},
   "outputs": [
    {
     "name": "stdout",
     "output_type": "stream",
     "text": [
      "('stat', 'math', 'science', 1, 2, 3, 4)\n"
     ]
    }
   ],
   "source": [
    "tuple1=('stat','math','science')\n",
    "tuple2=(1,2,3,4)\n",
    "tuple3=tuple1+tuple2\n",
    "print(tuple3)"
   ]
  },
  {
   "cell_type": "markdown",
   "id": "44de149a",
   "metadata": {},
   "source": [
    "### Multiply Tuples"
   ]
  },
  {
   "cell_type": "code",
   "execution_count": 18,
   "id": "125dffde",
   "metadata": {},
   "outputs": [
    {
     "name": "stdout",
     "output_type": "stream",
     "text": [
      "('stat', 'math', 'science', 'stat', 'math', 'science')\n"
     ]
    }
   ],
   "source": [
    "mytuple=('stat','math','science')\n",
    "tuple1=mytuple*2\n",
    "print(tuple1)\n"
   ]
  },
  {
   "cell_type": "markdown",
   "id": "80b7baf3",
   "metadata": {},
   "source": [
    "### Tuple Methods"
   ]
  },
  {
   "cell_type": "markdown",
   "id": "f5114c2c",
   "metadata": {},
   "source": [
    "#### count()\n",
    "Returns the number of times a specified value occurs in a tuple."
   ]
  },
  {
   "cell_type": "code",
   "execution_count": 19,
   "id": "0863c97a",
   "metadata": {},
   "outputs": [
    {
     "name": "stdout",
     "output_type": "stream",
     "text": [
      "4\n"
     ]
    }
   ],
   "source": [
    "thistuple=(1,2,3,4,2,6,2,5,7,2)\n",
    "x=thistuple.count(2)\n",
    "print(x)"
   ]
  },
  {
   "cell_type": "markdown",
   "id": "fa6948be",
   "metadata": {},
   "source": [
    "#### index()\n",
    "Searches the tuple for a specified value and returns the position of where it was found."
   ]
  },
  {
   "cell_type": "code",
   "execution_count": 20,
   "id": "60616217",
   "metadata": {},
   "outputs": [
    {
     "name": "stdout",
     "output_type": "stream",
     "text": [
      "5\n"
     ]
    }
   ],
   "source": [
    "thistuple=(1,2,3,4,2,6,2,5,7,2)\n",
    "x=thistuple.index(6)\n",
    "print(x)"
   ]
  }
 ],
 "metadata": {
  "kernelspec": {
   "display_name": "Python 3 (ipykernel)",
   "language": "python",
   "name": "python3"
  },
  "language_info": {
   "codemirror_mode": {
    "name": "ipython",
    "version": 3
   },
   "file_extension": ".py",
   "mimetype": "text/x-python",
   "name": "python",
   "nbconvert_exporter": "python",
   "pygments_lexer": "ipython3",
   "version": "3.9.13"
  }
 },
 "nbformat": 4,
 "nbformat_minor": 5
}
